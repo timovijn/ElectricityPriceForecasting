{
 "metadata": {
  "language_info": {
   "codemirror_mode": {
    "name": "ipython",
    "version": 3
   },
   "file_extension": ".py",
   "mimetype": "text/x-python",
   "name": "python",
   "nbconvert_exporter": "python",
   "pygments_lexer": "ipython3",
   "version": "3.8.2-final"
  },
  "orig_nbformat": 2,
  "kernelspec": {
   "name": "Python 3.8.2 64-bit ('timo': conda)",
   "display_name": "Python 3.8.2 64-bit ('timo': conda)",
   "metadata": {
    "interpreter": {
     "hash": "09da1e9612fee11f446b01485e3fd60f4196deeb8a076fd0dd58d7c345602074"
    }
   }
  }
 },
 "nbformat": 4,
 "nbformat_minor": 2,
 "cells": [
  {
   "source": [
    "import os\n",
    "os.system('clear')\n",
    "import numpy as np\n",
    "import matplotlib.pyplot as plt\n",
    "import pandas as pd\n",
    "from termcolor import colored"
   ],
   "cell_type": "code",
   "metadata": {},
   "execution_count": 1,
   "outputs": []
  },
  {
   "cell_type": "code",
   "execution_count": null,
   "metadata": {},
   "outputs": [],
   "source": [
    "# os.chdir(\"./Elbas volumes\")\n",
    "years = ['2013','2014','2015','2016','2017','2018','2019','2020']\n",
    "country = 'NL'\n",
    "dfo = pd.DataFrame()\n",
    "\n",
    "buy = []\n",
    "sell = []\n",
    "\n",
    "for y in years:\n",
    "    i = years.index(y)\n",
    "    df = pd.read_html(f\"./elbas-volumes_{y}_hourly.xls\", header=[2,3], decimal=',', thousands='.')\n",
    "    df = df[0]\n",
    "    df = df[(country)]\n",
    "    df = df.apply(pd.to_numeric, args=('coerce',))\n",
    "    \n",
    "    buy.append(df['Buy'].sum())\n",
    "    sell.append(df['Sell'].sum())\n",
    "    \n",
    "    print('')\n",
    "    print(colored('...','white'))\n",
    "    print('')\n",
    "    print(colored(f'Year: {y}', 'blue'))\n",
    "    print('')\n",
    "    print(colored(f'Buy volume: {int(round(buy[i]))} MWh', 'blue'))\n",
    "    print(colored(f'Sell volume: {int(round(sell[i]))} MWh', 'blue'))\n",
    "    print('')\n",
    "    \n",
    "    df.plot(legend=True)\n",
    "    plt.xlim(0,10000)\n",
    "    plt.ylim(0, 1500)\n",
    "    plt.xlabel(r'Time (days)')\n",
    "    plt.ylabel(r'Volume (MWh)')\n",
    "    plt.show()\n",
    "\n",
    "    dfo = dfo.append(df, ignore_index = True)\n",
    "\n",
    "print('')\n",
    "print(colored('...','white'))\n",
    "print('')\n",
    "print(colored(f'Period: {years[0]}–{years[-1]}', 'blue'))\n",
    "print(colored(f'Buy volume: {int(round(sum(buy)))} MWh', 'blue'))\n",
    "print(colored(f'Sell volume: {int(round(sum(sell)))} MWh', 'blue'))\n",
    "print('')\n",
    "print(colored('...','white'))\n",
    "print('')"
   ]
  },
  {
   "cell_type": "code",
   "execution_count": null,
   "metadata": {},
   "outputs": [],
   "source": [
    "dfo.plot(legend=True)\n",
    "plt.show()"
   ]
  }
 ]
}