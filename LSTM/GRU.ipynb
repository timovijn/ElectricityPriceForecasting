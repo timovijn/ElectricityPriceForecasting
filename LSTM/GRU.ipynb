{
 "metadata": {
  "language_info": {
   "codemirror_mode": {
    "name": "ipython",
    "version": 3
   },
   "file_extension": ".py",
   "mimetype": "text/x-python",
   "name": "python",
   "nbconvert_exporter": "python",
   "pygments_lexer": "ipython3",
   "version": "3.8.2"
  },
  "orig_nbformat": 2,
  "kernelspec": {
   "name": "python3",
   "display_name": "Python 3",
   "language": "python"
  }
 },
 "nbformat": 4,
 "nbformat_minor": 2,
 "cells": [
  {
   "source": [
    "# Load necessary packages"
   ],
   "cell_type": "markdown",
   "metadata": {}
  },
  {
   "cell_type": "code",
   "execution_count": 1,
   "metadata": {},
   "outputs": [],
   "source": [
    "import pandas as pd\n",
    "import numpy as np\n",
    "\n",
    "hex_salmon = '#F68F83'\n",
    "hex_gold = '#BC9661'\n",
    "hex_indigo = '#2D2E5F'\n",
    "hex_maroon = '#8C4750'\n",
    "hex_white = '#FAFAFA'\n",
    "hex_blue = '#7EB5D2'\n",
    "\n",
    "import seaborn as sns\n",
    "import matplotlib.pyplot as plt\n",
    "import matplotlib as mpl\n",
    "from matplotlib.dates import DateFormatter\n",
    "import matplotlib.dates as dates\n",
    "\n",
    "import plotly.express as px\n",
    "import plotly.graph_objects as go\n",
    "\n",
    "import matplotlib.font_manager as font_manager\n",
    "mpl.font_manager._rebuild()\n",
    "\n",
    "mpl.rcParams['font.family'] = 'SF Mono'\n",
    "mpl.rcParams['font.weight'] = 'medium'\n",
    "mpl.rcParams['axes.titleweight'] = 'semibold'\n",
    "mpl.rcParams['axes.labelweight'] = 'medium'\n",
    "mpl.rcParams['axes.prop_cycle'] = mpl.cycler(color=[hex_indigo, hex_salmon, hex_maroon])\n",
    "mpl.rcParams[\"figure.titlesize\"] = 'large'\n",
    "mpl.rcParams[\"figure.titleweight\"] = 'semibold'\n",
    "\n",
    "from termcolor import colored\n",
    "\n",
    "from sklearn.model_selection import train_test_split\n",
    "from sklearn.linear_model import Lasso, LogisticRegression, Ridge, ElasticNet, LassoCV, RidgeCV, ElasticNetCV\n",
    "from sklearn.feature_selection import SelectFromModel\n",
    "from sklearn.preprocessing import StandardScaler, LabelEncoder\n",
    "from sklearn.ensemble import RandomForestClassifier, RandomForestRegressor\n",
    "from sklearn.metrics import roc_auc_score, accuracy_score\n",
    "\n",
    "import tensorflow as tf\n",
    "\n",
    "import datetime"
   ]
  },
  {
   "source": [
    "# Organise data"
   ],
   "cell_type": "markdown",
   "metadata": {}
  },
  {
   "source": [
    "## Import features"
   ],
   "cell_type": "markdown",
   "metadata": {}
  },
  {
   "cell_type": "code",
   "execution_count": 2,
   "metadata": {},
   "outputs": [
    {
     "output_type": "stream",
     "name": "stdout",
     "text": [
      "zsh:1: command not found: ghclone\n"
     ]
    }
   ],
   "source": [
    "! pip install 'git+git://github.com/HR/github-clone#egg=ghclone' &> /dev/null\n",
    "\n",
    "! ghclone https://github.com/timovijn/ElectricityPriceForecasting/tree/master/LSTM"
   ]
  },
  {
   "cell_type": "code",
   "execution_count": 3,
   "metadata": {},
   "outputs": [
    {
     "output_type": "display_data",
     "data": {
      "text/plain": "                             ID3\nTimestamp                       \n2020-07-20 22:00:00+00:00  31.84\n2020-07-20 23:00:00+00:00  30.47\n2020-07-21 00:00:00+00:00  28.73\n2020-07-21 01:00:00+00:00  27.78\n2020-07-21 02:00:00+00:00  28.01\n...                          ...\n2021-02-22 18:00:00+00:00  63.62\n2021-02-22 19:00:00+00:00  48.16\n2021-02-22 20:00:00+00:00  41.61\n2021-02-22 21:00:00+00:00  41.88\n2021-02-22 22:00:00+00:00  37.83\n\n[5209 rows x 1 columns]",
      "text/html": "<div>\n<style scoped>\n    .dataframe tbody tr th:only-of-type {\n        vertical-align: middle;\n    }\n\n    .dataframe tbody tr th {\n        vertical-align: top;\n    }\n\n    .dataframe thead th {\n        text-align: right;\n    }\n</style>\n<table border=\"1\" class=\"dataframe\">\n  <thead>\n    <tr style=\"text-align: right;\">\n      <th></th>\n      <th>ID3</th>\n    </tr>\n    <tr>\n      <th>Timestamp</th>\n      <th></th>\n    </tr>\n  </thead>\n  <tbody>\n    <tr>\n      <th>2020-07-20 22:00:00+00:00</th>\n      <td>31.84</td>\n    </tr>\n    <tr>\n      <th>2020-07-20 23:00:00+00:00</th>\n      <td>30.47</td>\n    </tr>\n    <tr>\n      <th>2020-07-21 00:00:00+00:00</th>\n      <td>28.73</td>\n    </tr>\n    <tr>\n      <th>2020-07-21 01:00:00+00:00</th>\n      <td>27.78</td>\n    </tr>\n    <tr>\n      <th>2020-07-21 02:00:00+00:00</th>\n      <td>28.01</td>\n    </tr>\n    <tr>\n      <th>...</th>\n      <td>...</td>\n    </tr>\n    <tr>\n      <th>2021-02-22 18:00:00+00:00</th>\n      <td>63.62</td>\n    </tr>\n    <tr>\n      <th>2021-02-22 19:00:00+00:00</th>\n      <td>48.16</td>\n    </tr>\n    <tr>\n      <th>2021-02-22 20:00:00+00:00</th>\n      <td>41.61</td>\n    </tr>\n    <tr>\n      <th>2021-02-22 21:00:00+00:00</th>\n      <td>41.88</td>\n    </tr>\n    <tr>\n      <th>2021-02-22 22:00:00+00:00</th>\n      <td>37.83</td>\n    </tr>\n  </tbody>\n</table>\n<p>5209 rows × 1 columns</p>\n</div>"
     },
     "metadata": {}
    }
   ],
   "source": [
    "features = pd.read_pickle(f\"./ID3/ID3.pkl\")\n",
    "\n",
    "display(features)"
   ]
  },
  {
   "cell_type": "code",
   "execution_count": null,
   "metadata": {},
   "outputs": [],
   "source": [
    "# features = pd.read_pickle(f\"./features.pkl\")\n",
    "\n",
    "# display(features)"
   ]
  },
  {
   "cell_type": "code",
   "execution_count": null,
   "metadata": {},
   "outputs": [],
   "source": [
    "daterange = ['2017.01.09', '2017.02.05']\n",
    "\n",
    "fig1 = go.Scatter(      x = features[(features.index >= daterange[0]) & (features.index <= daterange[1])].index,\n",
    "                        y = features[(features.index >= daterange[0]) & (features.index <= daterange[1])]['MCP'],\n",
    "                        name = 'MCP',\n",
    "                        line_color = hex_indigo,\n",
    "                        # title = 'Log of Appliance Energy Consumption in Wh vs Time',\n",
    "                    )\n",
    "\n",
    "fig2 = go.Scatter(      x = features[(features.index >= daterange[0]) & (features.index <= daterange[1])].index,\n",
    "                        y = features[(features.index >= daterange[0]) & (features.index <= daterange[1])]['ID3'],\n",
    "                        name = 'ID3',\n",
    "                        line_color = hex_salmon,\n",
    "                        # title = 'Log of Appliance Energy Consumption in Wh vs Time',\n",
    "                    )\n",
    "\n",
    "data = [fig1, fig2]\n",
    "\n",
    "fig = go.Figure(data = data)\n",
    "\n",
    "fig.update_layout(      autosize = False,\n",
    "                        width = 1250,\n",
    "                        height = 500,\n",
    "    \n",
    "                        title = 'Prices',\n",
    "                        xaxis_title = 'Timestamp',\n",
    "                        yaxis_title = 'Price (€)'\n",
    "                    )\n",
    "\n",
    "fig.show()"
   ]
  },
  {
   "source": [
    "## Select features"
   ],
   "cell_type": "markdown",
   "metadata": {}
  },
  {
   "cell_type": "code",
   "execution_count": null,
   "metadata": {},
   "outputs": [],
   "source": [
    "X = features[['ID3']]\n",
    "y = features[['ID3']]\n",
    "\n",
    "lagged = ['ID3']\n",
    "\n",
    "lag_X = range(-72, -3, 1)\n",
    "lag_y = range(0, 3, 1)\n",
    "\n",
    "X2 = pd.DataFrame(index = X.index, columns = pd.MultiIndex.from_product([['X'], lag_X, X.columns], names = ['Feature', 'Type', 'Lag']))\n",
    "X2 = X2.rename_axis('Timestamp')\n",
    "\n",
    "y2 = pd.DataFrame(index = y.index, columns = pd.MultiIndex.from_product([['y'], lag_y, y.columns], names = ['Feature', 'Type', 'Lag']))\n",
    "y2 = y2.rename_axis('Timestamp')\n",
    "\n",
    "frame = pd.merge(y2, X2, left_index = True, right_index = True)\n",
    "\n",
    "X3 = pd.DataFrame(index = X.index)\n",
    "y3 = pd.DataFrame(index = y.index)\n",
    "\n",
    "# for c in X.columns:\n",
    "#     for l in lag_X:\n",
    "#         X3[f'{c} ({l})'] = X[f'{c}'].shift(-l)\n",
    "\n",
    "for c in lagged:\n",
    "    for l in lag_X:\n",
    "        X3[f'{c} ({l})'] = X[f'{c}'].shift(-l)\n",
    "\n",
    "frame['X'] = X3.values\n",
    "\n",
    "for c in y.columns:\n",
    "    for l in lag_y:\n",
    "        y3[f'{c} ({l})'] = y.shift(-l)\n",
    "\n",
    "frame['y'] = y3.values\n",
    "\n",
    "frame = frame.dropna()\n",
    "\n",
    "display(frame)"
   ]
  },
  {
   "source": [
    "## Split train and test"
   ],
   "cell_type": "markdown",
   "metadata": {}
  },
  {
   "cell_type": "code",
   "execution_count": null,
   "metadata": {},
   "outputs": [],
   "source": [
    "X_train, X_test, y_train, y_test = train_test_split(\n",
    "    frame['X'],\n",
    "    frame['y'],\n",
    "    test_size = 0.3,\n",
    "    random_state = 0,\n",
    "    shuffle = False)\n",
    "\n",
    "X_train, X_val, y_train, y_val = train_test_split(\n",
    "    X_train,\n",
    "    y_train,\n",
    "    test_size = 0.5,\n",
    "    random_state = 0,\n",
    "    shuffle = False)\n",
    "\n",
    "X_train.columns = pd.MultiIndex.from_product([['X'], lag_X, X.columns], names = ['Lag', 'Feature', 'Lag'])\n",
    "y_train.columns = pd.MultiIndex.from_product([['y'], lag_y, y.columns], names = ['Lag', 'Feature', 'Lag'])\n",
    "\n",
    "frame_train = pd.merge(y_train, X_train, left_index = True, right_index = True)\n",
    "\n",
    "X_test.columns = pd.MultiIndex.from_product([['X'], lag_X, X.columns], names = ['Lag', 'Feature', 'Lag'])\n",
    "y_test.columns = pd.MultiIndex.from_product([['y'], lag_y, y.columns], names = ['Lag', 'Feature', 'Lag'])\n",
    "\n",
    "frame_test = pd.merge(y_test, X_test, left_index = True, right_index = True)\n",
    "\n",
    "X_val.columns = pd.MultiIndex.from_product([['X'], lag_X, X.columns], names = ['Lag', 'Feature', 'Lag'])\n",
    "y_val.columns = pd.MultiIndex.from_product([['y'], lag_y, y.columns], names = ['Lag', 'Feature', 'Lag'])\n",
    "\n",
    "frame_val = pd.merge(y_val, X_val, left_index = True, right_index = True)\n",
    "\n",
    "print()\n",
    "print(f'Train input', frame_train['X'].shape, 'output', frame_train['y'].shape)\n",
    "print()\n",
    "print(f'Test input', frame_test['X'].shape, 'output', frame_test['y'].shape)\n",
    "print()\n",
    "print(f'Validation input', frame_val['X'].shape, 'output', frame_val['y'].shape)\n",
    "print()\n",
    "\n",
    "display(frame_train)"
   ]
  },
  {
   "source": [
    "## Scaling"
   ],
   "cell_type": "markdown",
   "metadata": {}
  },
  {
   "cell_type": "code",
   "execution_count": null,
   "metadata": {},
   "outputs": [],
   "source": [
    "frame_train_unscaled = frame_train\n",
    "frame_test_unscaled = frame_test\n",
    "frame_val_unscaled = frame_val\n",
    "\n",
    "y_scaler = StandardScaler()\n",
    "y_scaler.fit(frame_train['y'])\n",
    "\n",
    "frame_train['y'] = y_scaler.transform(frame_train['y'])\n",
    "frame_test['y'] = y_scaler.transform(frame_test['y'])\n",
    "frame_val['y'] = y_scaler.transform(frame_val['y'])\n",
    "\n",
    "X_scaler = StandardScaler()\n",
    "X_scaler.fit(frame_train['X'])\n",
    "\n",
    "frame_train['X'] = X_scaler.transform(frame_train['X'])\n",
    "frame_test['X'] = X_scaler.transform(frame_test['X'])\n",
    "frame_val['X'] = X_scaler.transform(frame_val['X'])\n",
    "\n",
    "display(frame_train)\n",
    "\n",
    "display(frame_test)\n",
    "\n",
    "display(frame_val)"
   ]
  },
  {
   "cell_type": "code",
   "execution_count": null,
   "metadata": {
    "tags": []
   },
   "outputs": [],
   "source": [
    "def three_dim_tensor(frame_train, frame_test, frame_val):\n",
    "\n",
    "    X_train = list()\n",
    "\n",
    "    for index, row in frame_train['X'].iterrows():\n",
    "        X_train.extend(row.tolist())\n",
    "\n",
    "    X_train = np.array(X_train)\n",
    "\n",
    "    X_train = X_train.reshape((len(frame_train), len(lag_X), len(X.columns)))\n",
    "\n",
    "    X_test = list()\n",
    "\n",
    "    for index, row in frame_test['X'].iterrows():\n",
    "        X_test.extend(row.tolist())\n",
    "\n",
    "    X_test = np.array(X_test)\n",
    "\n",
    "    X_test = X_test.reshape((len(frame_test), len(lag_X), len(X.columns)))\n",
    "\n",
    "    X_val = list()\n",
    "\n",
    "    for index, row in frame_val['X'].iterrows():\n",
    "        X_val.extend(row.tolist())\n",
    "\n",
    "    X_val = np.array(X_val)\n",
    "\n",
    "    X_val = X_val.reshape((len(frame_val), len(lag_X), len(X.columns)))\n",
    "\n",
    "    return X_train, X_test, X_val"
   ]
  },
  {
   "source": [
    "# Learning"
   ],
   "cell_type": "markdown",
   "metadata": {}
  },
  {
   "source": [
    "## Create model"
   ],
   "cell_type": "markdown",
   "metadata": {}
  },
  {
   "cell_type": "code",
   "execution_count": null,
   "metadata": {},
   "outputs": [],
   "source": [
    "LATENT_DIM = 5\n",
    "BATCH_SIZE = 50\n",
    "EPOCHS = 100\n",
    "\n",
    "HORIZON = len(lag_y)"
   ]
  },
  {
   "cell_type": "code",
   "execution_count": null,
   "metadata": {},
   "outputs": [],
   "source": [
    "from keras.models import Sequential\n",
    "from keras.layers import Dense, GRU\n",
    "from keras.optimizers import SGD, Adam\n",
    "from keras.utils.vis_utils import plot_model\n",
    "from keras.layers import GRU, Dense, RepeatVector, TimeDistributed, Flatten"
   ]
  },
  {
   "cell_type": "code",
   "execution_count": null,
   "metadata": {},
   "outputs": [],
   "source": [
    "def model_GRU():\n",
    "\n",
    "    ######################################################################################################\n",
    "\n",
    "    model = Sequential()\n",
    "\n",
    "    model.add(GRU(LATENT_DIM, input_shape = (len(lag_X), len(X.columns))))\n",
    "\n",
    "    model.add(RepeatVector(HORIZON))\n",
    "\n",
    "    model.add(GRU(LATENT_DIM, return_sequences = True))\n",
    "\n",
    "    model.add(TimeDistributed(Dense(1)))\n",
    "\n",
    "    model.add(Flatten())\n",
    "\n",
    "    ######################################################################################################\n",
    "\n",
    "    X_train, X_test, X_val = three_dim_tensor(frame_train, frame_test, frame_val)\n",
    "    \n",
    "    return model, X_train, X_test, X_val"
   ]
  },
  {
   "cell_type": "code",
   "execution_count": null,
   "metadata": {},
   "outputs": [],
   "source": [
    "def model_MLP():\n",
    "\n",
    "    ######################################################################################################\n",
    "\n",
    "    model = Sequential()\n",
    "\n",
    "    model.add(Dense(200, activation = 'relu', kernel_initializer = 'he_normal', input_shape = (frame_train['X'].shape[1],)))\n",
    "\n",
    "    model.add(Dense(100, activation = 'relu', kernel_initializer = 'he_normal'))\n",
    "\n",
    "    model.add(Dense(HORIZON))\n",
    "\n",
    "    ######################################################################################################\n",
    "\n",
    "    X_train = frame_train['X']\n",
    "    X_test = frame_test['X']\n",
    "    X_val = frame_val['X']\n",
    "\n",
    "    return model, X_train, X_test, X_val"
   ]
  },
  {
   "cell_type": "code",
   "execution_count": null,
   "metadata": {},
   "outputs": [],
   "source": [
    "model_sel = input(r'Enter model: ')\n",
    "\n",
    "if model_sel == 'GRU':\n",
    "    model, X_train, X_test, X_val = model_GRU()\n",
    "\n",
    "if model_sel == 'MLP':\n",
    "    model, X_train, X_test, X_val = model_MLP()\n",
    "\n",
    "model.compile(optimizer = 'Adam', loss = 'mse', metrics = ['accuracy'])\n",
    "\n",
    "model.summary()"
   ]
  },
  {
   "cell_type": "code",
   "execution_count": null,
   "metadata": {},
   "outputs": [],
   "source": [
    "from keras.callbacks import EarlyStopping\n",
    "\n",
    "earlystop = EarlyStopping(monitor = 'val_loss', mode = 'min', patience = 5, verbose = 1)\n",
    "\n",
    "history = model.fit(X_train,\n",
    "          np.array(frame_train['y']),\n",
    "          batch_size = BATCH_SIZE,\n",
    "          epochs = EPOCHS,\n",
    "          validation_data = (X_val, frame_val['y']),\n",
    "          callbacks = [earlystop],\n",
    "          verbose = 1)"
   ]
  },
  {
   "cell_type": "code",
   "execution_count": null,
   "metadata": {},
   "outputs": [],
   "source": [
    "# summarize history for accuracy\n",
    "plt.plot(history.history['accuracy'])\n",
    "plt.plot(history.history['val_accuracy'])\n",
    "plt.title('model accuracy')\n",
    "plt.ylabel('accuracy')\n",
    "plt.xlabel('epoch')\n",
    "plt.legend(['train', 'val'], loc = 'upper left')\n",
    "plt.show()\n",
    "\n",
    "# summarize history for loss\n",
    "plt.plot(history.history['loss'])\n",
    "plt.plot(history.history['val_loss'])\n",
    "plt.title('model loss')\n",
    "plt.ylabel('loss')\n",
    "plt.xlabel('epoch')\n",
    "plt.legend(['train', 'val'], loc = 'upper left')\n",
    "plt.show()"
   ]
  },
  {
   "cell_type": "code",
   "execution_count": null,
   "metadata": {},
   "outputs": [],
   "source": [
    "predictions = pd.DataFrame(index = frame_test.index, columns = pd.MultiIndex.from_product([['Prediction'], y.columns, lag_y], names = ['Type', 'Feature', 'Lag']))\n",
    "\n",
    "frame_test = pd.merge(frame_test, predictions, left_index = True, right_index = True)\n",
    "\n",
    "frame_test['Prediction'] = model.predict(X_test)\n",
    "\n",
    "frame_test['Prediction'] = y_scaler.inverse_transform(frame_test['Prediction'])\n",
    "\n",
    "frame_test['y'] = y_scaler.inverse_transform(frame_test['y'])\n",
    "\n",
    "display(frame_test)"
   ]
  },
  {
   "source": [
    "# Results"
   ],
   "cell_type": "markdown",
   "metadata": {}
  },
  {
   "source": [
    "## Plot prediction"
   ],
   "cell_type": "markdown",
   "metadata": {}
  },
  {
   "cell_type": "code",
   "execution_count": null,
   "metadata": {},
   "outputs": [],
   "source": [
    "fig1 = go.Scatter(      x = frame_test.index,\n",
    "                        y = frame_test['y'][0]['ID3'],\n",
    "                        name = 'Actual',\n",
    "                        line_color = hex_maroon,\n",
    "                        # title = \"Log of Appliance Energy Consumption in Wh vs Time\"\n",
    "                    )\n",
    "\n",
    "fig2 = go.Scatter(      x = frame_test.index,\n",
    "                        y = frame_test['Prediction']['ID3'][0],\n",
    "                        name = 'Predicted',\n",
    "                        line_color = hex_gold,\n",
    "                        # title = \"Log of Appliance Energy Consumption in Wh vs Time\"\n",
    "                    )\n",
    "\n",
    "data = [fig1, fig2]\n",
    "\n",
    "fig = go.Figure(data = data)\n",
    "\n",
    "fig.update_layout(      title = 'Forecast of test set',\n",
    "                        xaxis_title = 'Timestamp',\n",
    "                        yaxis_title = 'ID3 (€)')\n",
    "\n",
    "fig.show()"
   ]
  },
  {
   "source": [
    "## Metrics"
   ],
   "cell_type": "markdown",
   "metadata": {}
  },
  {
   "cell_type": "code",
   "execution_count": null,
   "metadata": {},
   "outputs": [],
   "source": [
    "def smape(A, F):\n",
    "    return 100/len(A) * np.sum(2 * np.abs(F - A) / (np.abs(A) + np.abs(F)))\n",
    "\n",
    "print(smape(frame_test['y'][0]['ID3'], frame_test['Prediction']['ID3'][0]))\n",
    "print(smape(frame_test['y'][1]['ID3'], frame_test['Prediction']['ID3'][1]))\n",
    "print(smape(frame_test['y'][2]['ID3'], frame_test['Prediction']['ID3'][2]))"
   ]
  },
  {
   "cell_type": "code",
   "execution_count": null,
   "metadata": {},
   "outputs": [],
   "source": [
    "from sklearn.metrics import mean_absolute_error\n",
    "\n",
    "display(mean_absolute_error(frame_test['y'][0]['ID3'], frame_test['Prediction']['ID3'][0]))"
   ]
  }
 ]
}