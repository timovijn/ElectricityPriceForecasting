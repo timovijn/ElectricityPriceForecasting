{
 "metadata": {
  "language_info": {
   "codemirror_mode": {
    "name": "ipython",
    "version": 3
   },
   "file_extension": ".py",
   "mimetype": "text/x-python",
   "name": "python",
   "nbconvert_exporter": "python",
   "pygments_lexer": "ipython3",
   "version": "3.8.2-final"
  },
  "orig_nbformat": 2,
  "kernelspec": {
   "name": "python3",
   "display_name": "Python 3.8.2 64-bit ('timo': conda)",
   "metadata": {
    "interpreter": {
     "hash": "09da1e9612fee11f446b01485e3fd60f4196deeb8a076fd0dd58d7c345602074"
    }
   }
  }
 },
 "nbformat": 4,
 "nbformat_minor": 2,
 "cells": [
  {
   "source": [
    "# Load packages and settings"
   ],
   "cell_type": "markdown",
   "metadata": {}
  },
  {
   "cell_type": "code",
   "execution_count": 1,
   "metadata": {},
   "outputs": [
    {
     "output_type": "stream",
     "name": "stdout",
     "text": [
      "\n\u001b[37m...\u001b[0m\n\n\u001b[32mFinished successfully\u001b[0m\n\n\u001b[37m...\u001b[0m\n\n"
     ]
    }
   ],
   "source": [
    "import os\n",
    "os.system('clear')\n",
    "\n",
    "import numpy as np\n",
    "import pandas as pd\n",
    "from datetime import datetime\n",
    "\n",
    "from termcolor import colored\n",
    "from SecretColors.palette import Palette\n",
    "material = Palette('material', color_mode = 'hexa')\n",
    "\n",
    "hex_salmon = '#F68F83'\n",
    "hex_gold = '#BC9661'\n",
    "hex_indigo = '#2D2E5F'\n",
    "hex_maroon = '#8C4750'\n",
    "hex_white = '#FAFAFA'\n",
    "hex_blue = '#7EB5D2'\n",
    "\n",
    "import matplotlib.pyplot as plt\n",
    "import matplotlib as mpl\n",
    "from matplotlib.dates import DateFormatter\n",
    "import matplotlib.dates as dates\n",
    "mpl.rcParams['font.family'] = 'SF Compact Text'\n",
    "mpl.rcParams['font.weight'] = 'medium'\n",
    "mpl.rcParams['axes.titleweight'] = 'semibold'\n",
    "mpl.rcParams['axes.labelweight'] = 'medium'\n",
    "mpl.rcParams['axes.prop_cycle'] = mpl.cycler(color=[hex_indigo, hex_salmon, hex_maroon])\n",
    "mpl.rcParams['figure.titlesize'] = 'large'\n",
    "mpl.rcParams['figure.titleweight'] = 'semibold'\n",
    "\n",
    "print('')\n",
    "print(colored('...','white'))\n",
    "print('')\n",
    "print(colored(f'Finished successfully', 'green'))\n",
    "print('')\n",
    "print(colored('...','white'))\n",
    "print('')"
   ]
  },
  {
   "source": [
    "# Convert DA (raw) to DA (df)"
   ],
   "cell_type": "markdown",
   "metadata": {}
  },
  {
   "cell_type": "code",
   "execution_count": 2,
   "metadata": {
    "tags": []
   },
   "outputs": [
    {
     "output_type": "stream",
     "name": "stdout",
     "text": [
      "\n",
      "\u001b[37m...\u001b[0m\n",
      "\n",
      "\u001b[34mFiles in directory: ['DAM - Historical data - 2015.xls', 'DAM - Historical data - 2016.xls', 'DAM - Historical data - 2017.xls', 'DAM - Historical data - 2018.xls']\u001b[0m\n",
      "\n",
      "\u001b[37m...\u001b[0m\n",
      "\n",
      "\u001b[34mCurrently processing file: DAM - Historical data - 2015.xls\u001b[0m\n",
      "\u001b[34mCurrently processing year: 2015\u001b[0m\n",
      "\n",
      "\u001b[37m...\u001b[0m\n",
      "\n",
      "\u001b[34mCurrently processing file: DAM - Historical data - 2016.xls\u001b[0m\n",
      "\u001b[34mCurrently processing year: 2016\u001b[0m\n",
      "\n",
      "\u001b[37m...\u001b[0m\n",
      "\n",
      "\u001b[34mCurrently processing file: DAM - Historical data - 2017.xls\u001b[0m\n",
      "\u001b[34mCurrently processing year: 2017\u001b[0m\n",
      "\n",
      "\u001b[37m...\u001b[0m\n",
      "\n",
      "\u001b[34mCurrently processing file: DAM - Historical data - 2018.xls\u001b[0m\n",
      "\u001b[34mCurrently processing year: 2018\u001b[0m\n",
      "\n",
      "\u001b[37m...\u001b[0m\n",
      "\n",
      "\u001b[35mI removed the following dates because of DST [datetime.date(2015, 3, 29), datetime.date(2015, 10, 25), datetime.date(2016, 3, 27), datetime.date(2016, 10, 30), datetime.date(2017, 3, 26), datetime.date(2017, 10, 29), datetime.date(2018, 3, 25), datetime.date(2018, 10, 28)]\u001b[0m\n",
      "\n",
      "\u001b[37m...\u001b[0m\n",
      "\n",
      "\u001b[34m(DA) Grouped by hour\u001b[0m\n",
      "\n",
      "\u001b[37m...\u001b[0m\n",
      "\n"
     ]
    },
    {
     "output_type": "display_data",
     "data": {
      "text/plain": "                             MCP\nTimestamp                       \n2015-01-01 00:00:00+00:00  38.50\n2015-01-01 01:00:00+00:00  38.22\n2015-01-01 02:00:00+00:00  35.60\n2015-01-01 03:00:00+00:00  33.00\n2015-01-01 04:00:00+00:00  27.41\n...                          ...\n2018-12-31 19:00:00+00:00  58.28\n2018-12-31 20:00:00+00:00  50.01\n2018-12-31 21:00:00+00:00  47.48\n2018-12-31 22:00:00+00:00  50.95\n2018-12-31 23:00:00+00:00  46.70\n\n[34872 rows x 1 columns]",
      "text/html": "<div>\n<style scoped>\n    .dataframe tbody tr th:only-of-type {\n        vertical-align: middle;\n    }\n\n    .dataframe tbody tr th {\n        vertical-align: top;\n    }\n\n    .dataframe thead th {\n        text-align: right;\n    }\n</style>\n<table border=\"1\" class=\"dataframe\">\n  <thead>\n    <tr style=\"text-align: right;\">\n      <th></th>\n      <th>MCP</th>\n    </tr>\n    <tr>\n      <th>Timestamp</th>\n      <th></th>\n    </tr>\n  </thead>\n  <tbody>\n    <tr>\n      <th>2015-01-01 00:00:00+00:00</th>\n      <td>38.50</td>\n    </tr>\n    <tr>\n      <th>2015-01-01 01:00:00+00:00</th>\n      <td>38.22</td>\n    </tr>\n    <tr>\n      <th>2015-01-01 02:00:00+00:00</th>\n      <td>35.60</td>\n    </tr>\n    <tr>\n      <th>2015-01-01 03:00:00+00:00</th>\n      <td>33.00</td>\n    </tr>\n    <tr>\n      <th>2015-01-01 04:00:00+00:00</th>\n      <td>27.41</td>\n    </tr>\n    <tr>\n      <th>...</th>\n      <td>...</td>\n    </tr>\n    <tr>\n      <th>2018-12-31 19:00:00+00:00</th>\n      <td>58.28</td>\n    </tr>\n    <tr>\n      <th>2018-12-31 20:00:00+00:00</th>\n      <td>50.01</td>\n    </tr>\n    <tr>\n      <th>2018-12-31 21:00:00+00:00</th>\n      <td>47.48</td>\n    </tr>\n    <tr>\n      <th>2018-12-31 22:00:00+00:00</th>\n      <td>50.95</td>\n    </tr>\n    <tr>\n      <th>2018-12-31 23:00:00+00:00</th>\n      <td>46.70</td>\n    </tr>\n  </tbody>\n</table>\n<p>34872 rows × 1 columns</p>\n</div>"
     },
     "metadata": {}
    },
    {
     "output_type": "stream",
     "name": "stdout",
     "text": [
      "\n\u001b[37m...\u001b[0m\n\n\u001b[32mFinished successfully\u001b[0m\n\n\u001b[37m...\u001b[0m\n\n"
     ]
    }
   ],
   "source": [
    "yyears = ['2015', '2016', '2017', '2018']\n",
    "\n",
    "import sys\n",
    "import calendar\n",
    "\n",
    "flist = [f for f in sorted(os.listdir(\"./raw data/DA/\")) if not (f.startswith('.') or f.startswith('~'))]\n",
    "\n",
    "print('')\n",
    "print(colored('...','white'))\n",
    "print('')\n",
    "print(colored(f'Files in directory: {flist}', 'blue'))\n",
    "print('')\n",
    "\n",
    "df_da2 = pd.DataFrame()\n",
    "\n",
    "big_df = pd.DataFrame()\n",
    "date = []\n",
    "mcp = []\n",
    "\n",
    "dst_switch_dates = []\n",
    "\n",
    "for filename in flist:\n",
    "\n",
    "    y = filename[24:28]\n",
    "\n",
    "    if y in yyears:\n",
    "    \n",
    "        for month in [3, 10]:\n",
    "            last_sunday = max(week[-1] for week in calendar.monthcalendar(int(y), month))\n",
    "            dst_switch_dates.append(datetime.strptime(f'{y}-{calendar.month_abbr[month]}-{last_sunday}','%Y-%b-%d').date())\n",
    "\n",
    "        print(colored('...','white'))\n",
    "        print('')\n",
    "        print(colored(f'Currently processing file: {filename}', 'blue'))\n",
    "        print(colored(f'Currently processing year: {y}', 'blue'))\n",
    "        print('')\n",
    "\n",
    "        df_da = pd.read_excel(f\"./raw data/DA/{filename}\", sheet_name = \"prices_2\")\n",
    "        for index, row in df_da.iterrows():\n",
    "\n",
    "            for t in range(1, 25):\n",
    "                t2 = t - 1\n",
    "                if t <= 9:\n",
    "                    t = f'0{t}'\n",
    "                # df2['Date'] = pd.to_datetime(df2['Date'])\n",
    "                # print(type(row['PRICES'].strftime(\"%Y-%m-%d\") + ' ' + f'{t}' + ':00:00'))\n",
    "                # df2 = df2.append(row['PRICES'].strftime(\"%Y-%m-%d\") + ' ' + f'{t}' + ':00:00', row[f'Hour {t}'])\n",
    "\n",
    "                date.append(row['PRICES'].strftime(\"%Y-%m-%d\") + ' ' + f'{t2}' + ':00:00')\n",
    "                mcp.append(row[f'Hour {t}'])\n",
    "\n",
    "                # df2['MCP'] = df2['MCP'].append(row[f'Hour {t}'])\n",
    "                # pd.to_datetime(df_group3['Date'], format='(%Y, %m, %d, %H)')\n",
    "                \n",
    "                # df2['Date2'] = pd.to_datetime(df2['Date'], format='%Y-%m-%d %H')\n",
    "\n",
    "                # pd.to_datetime(df_group3['Date'], format='(%Y, %m, %d, %H)')\n",
    "                \n",
    "                # df2['Date'] = pd.to_datetime(df2, format='(%Y, %m, %d, %H)')\n",
    "        \n",
    "        import pytz\n",
    "\n",
    "    df_da2 = pd.DataFrame(date)\n",
    "    df_da2.columns = ['Date']\n",
    "    df_da2['MCP'] = pd.DataFrame(mcp)\n",
    "    df_da2 = df_da2.set_index(pd.DatetimeIndex(df_da2['Date']))\n",
    "    df_da2 = df_da2.drop(['Date'], axis=1)\n",
    "\n",
    "    for d in dst_switch_dates:\n",
    "        df_da2 = df_da2[df_da2.index.date != d]\n",
    "\n",
    "    # df_da2 = df_da2.tz_localize('Europe/Amsterdam')\n",
    "    # df_da2 = df_da2.tz_convert('UTC')\n",
    "\n",
    "    df_da2 = df_da2.tz_localize('UTC')\n",
    "\n",
    "df_da2.index.names = ['Timestamp']\n",
    "\n",
    "print(colored('...','white'))\n",
    "print('')\n",
    "print(colored(f'I removed the following dates because of DST {dst_switch_dates}', 'magenta'))\n",
    "print('')\n",
    "\n",
    "print(colored('...','white'))\n",
    "print('')\n",
    "print(colored(f'(DA) Grouped by hour', 'blue'))\n",
    "print('')\n",
    "\n",
    "print(colored('...','white'))\n",
    "print('')\n",
    "display(df_da2)\n",
    "print('')\n",
    "\n",
    "print(colored('...','white'))\n",
    "print('')\n",
    "print(colored(f'Finished successfully', 'green'))\n",
    "print('')\n",
    "print(colored('...','white'))\n",
    "print('')"
   ]
  },
  {
   "cell_type": "code",
   "execution_count": 3,
   "metadata": {},
   "outputs": [
    {
     "output_type": "display_data",
     "data": {
      "text/plain": "                             MCP\nTimestamp                       \n2015-01-01 00:00:00+00:00  38.50\n2015-01-01 01:00:00+00:00  38.22\n2015-01-01 02:00:00+00:00  35.60\n2015-01-01 03:00:00+00:00  33.00\n2015-01-01 04:00:00+00:00  27.41\n...                          ...\n2018-12-31 19:00:00+00:00  58.28\n2018-12-31 20:00:00+00:00  50.01\n2018-12-31 21:00:00+00:00  47.48\n2018-12-31 22:00:00+00:00  50.95\n2018-12-31 23:00:00+00:00  46.70\n\n[35064 rows x 1 columns]",
      "text/html": "<div>\n<style scoped>\n    .dataframe tbody tr th:only-of-type {\n        vertical-align: middle;\n    }\n\n    .dataframe tbody tr th {\n        vertical-align: top;\n    }\n\n    .dataframe thead th {\n        text-align: right;\n    }\n</style>\n<table border=\"1\" class=\"dataframe\">\n  <thead>\n    <tr style=\"text-align: right;\">\n      <th></th>\n      <th>MCP</th>\n    </tr>\n    <tr>\n      <th>Timestamp</th>\n      <th></th>\n    </tr>\n  </thead>\n  <tbody>\n    <tr>\n      <th>2015-01-01 00:00:00+00:00</th>\n      <td>38.50</td>\n    </tr>\n    <tr>\n      <th>2015-01-01 01:00:00+00:00</th>\n      <td>38.22</td>\n    </tr>\n    <tr>\n      <th>2015-01-01 02:00:00+00:00</th>\n      <td>35.60</td>\n    </tr>\n    <tr>\n      <th>2015-01-01 03:00:00+00:00</th>\n      <td>33.00</td>\n    </tr>\n    <tr>\n      <th>2015-01-01 04:00:00+00:00</th>\n      <td>27.41</td>\n    </tr>\n    <tr>\n      <th>...</th>\n      <td>...</td>\n    </tr>\n    <tr>\n      <th>2018-12-31 19:00:00+00:00</th>\n      <td>58.28</td>\n    </tr>\n    <tr>\n      <th>2018-12-31 20:00:00+00:00</th>\n      <td>50.01</td>\n    </tr>\n    <tr>\n      <th>2018-12-31 21:00:00+00:00</th>\n      <td>47.48</td>\n    </tr>\n    <tr>\n      <th>2018-12-31 22:00:00+00:00</th>\n      <td>50.95</td>\n    </tr>\n    <tr>\n      <th>2018-12-31 23:00:00+00:00</th>\n      <td>46.70</td>\n    </tr>\n  </tbody>\n</table>\n<p>35064 rows × 1 columns</p>\n</div>"
     },
     "metadata": {}
    }
   ],
   "source": [
    "df_da3 = pd.DataFrame(columns = ['MCP'])\n",
    "\n",
    "df_da3['Timestamp'] = pd.date_range(f'{yyears[0]}-01-01 00:00:00', f'{yyears[-1]}-12-31 23:00:00', freq = 'h', tz = 'UTC')\n",
    "\n",
    "df_da3 = df_da3.set_index('Timestamp')\n",
    "\n",
    "df_da3['MCP'] = df_da2['MCP']\n",
    "\n",
    "df_da3.to_pickle(f\"./data/DA/DA.pkl\")\n",
    "\n",
    "display(df_da3)"
   ]
  },
  {
   "cell_type": "code",
   "execution_count": 6,
   "metadata": {},
   "outputs": [
    {
     "output_type": "execute_result",
     "data": {
      "text/plain": [
       "                           MCP\n",
       "Timestamp                     \n",
       "2015-03-29 00:00:00+00:00  NaN\n",
       "2015-03-29 01:00:00+00:00  NaN\n",
       "2015-03-29 02:00:00+00:00  NaN\n",
       "2015-03-29 03:00:00+00:00  NaN\n",
       "2015-03-29 04:00:00+00:00  NaN\n",
       "...                        ...\n",
       "2018-10-28 19:00:00+00:00  NaN\n",
       "2018-10-28 20:00:00+00:00  NaN\n",
       "2018-10-28 21:00:00+00:00  NaN\n",
       "2018-10-28 22:00:00+00:00  NaN\n",
       "2018-10-28 23:00:00+00:00  NaN\n",
       "\n",
       "[192 rows x 1 columns]"
      ],
      "text/html": "<div>\n<style scoped>\n    .dataframe tbody tr th:only-of-type {\n        vertical-align: middle;\n    }\n\n    .dataframe tbody tr th {\n        vertical-align: top;\n    }\n\n    .dataframe thead th {\n        text-align: right;\n    }\n</style>\n<table border=\"1\" class=\"dataframe\">\n  <thead>\n    <tr style=\"text-align: right;\">\n      <th></th>\n      <th>MCP</th>\n    </tr>\n    <tr>\n      <th>Timestamp</th>\n      <th></th>\n    </tr>\n  </thead>\n  <tbody>\n    <tr>\n      <th>2015-03-29 00:00:00+00:00</th>\n      <td>NaN</td>\n    </tr>\n    <tr>\n      <th>2015-03-29 01:00:00+00:00</th>\n      <td>NaN</td>\n    </tr>\n    <tr>\n      <th>2015-03-29 02:00:00+00:00</th>\n      <td>NaN</td>\n    </tr>\n    <tr>\n      <th>2015-03-29 03:00:00+00:00</th>\n      <td>NaN</td>\n    </tr>\n    <tr>\n      <th>2015-03-29 04:00:00+00:00</th>\n      <td>NaN</td>\n    </tr>\n    <tr>\n      <th>...</th>\n      <td>...</td>\n    </tr>\n    <tr>\n      <th>2018-10-28 19:00:00+00:00</th>\n      <td>NaN</td>\n    </tr>\n    <tr>\n      <th>2018-10-28 20:00:00+00:00</th>\n      <td>NaN</td>\n    </tr>\n    <tr>\n      <th>2018-10-28 21:00:00+00:00</th>\n      <td>NaN</td>\n    </tr>\n    <tr>\n      <th>2018-10-28 22:00:00+00:00</th>\n      <td>NaN</td>\n    </tr>\n    <tr>\n      <th>2018-10-28 23:00:00+00:00</th>\n      <td>NaN</td>\n    </tr>\n  </tbody>\n</table>\n<p>192 rows × 1 columns</p>\n</div>"
     },
     "metadata": {},
     "execution_count": 6
    }
   ],
   "source": [
    "df_da3[df_da3['MCP'].isna()]"
   ]
  },
  {
   "cell_type": "code",
   "execution_count": null,
   "metadata": {},
   "outputs": [],
   "source": []
  }
 ]
}