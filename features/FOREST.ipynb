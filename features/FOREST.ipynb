{
 "metadata": {
  "language_info": {
   "codemirror_mode": {
    "name": "ipython",
    "version": 3
   },
   "file_extension": ".py",
   "mimetype": "text/x-python",
   "name": "python",
   "nbconvert_exporter": "python",
   "pygments_lexer": "ipython3",
   "version": "3.8.2-final"
  },
  "orig_nbformat": 2,
  "kernelspec": {
   "name": "python3",
   "display_name": "Python 3",
   "language": "python"
  }
 },
 "nbformat": 4,
 "nbformat_minor": 2,
 "cells": [
  {
   "source": [
    "# Load necessary packages"
   ],
   "cell_type": "markdown",
   "metadata": {}
  },
  {
   "cell_type": "code",
   "execution_count": 1,
   "metadata": {},
   "outputs": [],
   "source": [
    "import pandas as pd \n",
    "import numpy as np\n",
    "\n",
    "hex_salmon = '#F68F83'\n",
    "hex_gold = '#BC9661'\n",
    "hex_indigo = '#2D2E5F'\n",
    "hex_maroon = '#8C4750'\n",
    "hex_white = '#FAFAFA'\n",
    "hex_blue = '#7EB5D2'\n",
    "\n",
    "import seaborn as sns\n",
    "import matplotlib.pyplot as plt\n",
    "import matplotlib as mpl\n",
    "from matplotlib.dates import DateFormatter\n",
    "import matplotlib.dates as dates\n",
    "mpl.rcParams['font.family'] = 'SF Compact Text'\n",
    "mpl.rcParams['font.weight'] = 'medium'\n",
    "mpl.rcParams['axes.titleweight'] = 'semibold'\n",
    "mpl.rcParams['axes.labelweight'] = 'medium'\n",
    "mpl.rcParams['axes.prop_cycle'] = mpl.cycler(color=[hex_indigo, hex_salmon, hex_maroon])\n",
    "mpl.rcParams[\"figure.titlesize\"] = 'large'\n",
    "mpl.rcParams[\"figure.titleweight\"] = 'semibold'\n",
    "\n",
    "from termcolor import colored\n",
    "\n",
    "from sklearn.model_selection import train_test_split\n",
    "\n",
    "from sklearn.linear_model import Lasso, LogisticRegression\n",
    "from sklearn.feature_selection import SelectFromModel\n",
    "from sklearn.preprocessing import StandardScaler, LabelEncoder\n",
    "from sklearn.ensemble import RandomForestClassifier, RandomForestRegressor"
   ]
  },
  {
   "source": [
    "# Load data"
   ],
   "cell_type": "markdown",
   "metadata": {}
  },
  {
   "cell_type": "code",
   "execution_count": 2,
   "metadata": {},
   "outputs": [
    {
     "output_type": "stream",
     "name": "stdout",
     "text": [
      "importing Jupyter notebook from data.ipynb\n"
     ]
    }
   ],
   "source": [
    "import import_ipynb\n",
    "from data import create_features\n",
    "\n",
    "years = [2018]\n",
    "lags = range(-4, -149, -1)\n",
    "ID, DA, features = create_features(years, lags)"
   ]
  },
  {
   "cell_type": "code",
   "execution_count": 3,
   "metadata": {},
   "outputs": [
    {
     "output_type": "execute_result",
     "data": {
      "text/plain": [
       "                           ID3\n",
       "Instrument                    \n",
       "2018-01-01 00:00:00  14.586875\n",
       "2018-01-01 01:00:00  12.990924\n",
       "2018-01-01 02:00:00  22.150235\n",
       "2018-01-01 03:00:00  21.917514\n",
       "2018-01-01 04:00:00  21.621781"
      ],
      "text/html": "<div>\n<style scoped>\n    .dataframe tbody tr th:only-of-type {\n        vertical-align: middle;\n    }\n\n    .dataframe tbody tr th {\n        vertical-align: top;\n    }\n\n    .dataframe thead th {\n        text-align: right;\n    }\n</style>\n<table border=\"1\" class=\"dataframe\">\n  <thead>\n    <tr style=\"text-align: right;\">\n      <th></th>\n      <th>ID3</th>\n    </tr>\n    <tr>\n      <th>Instrument</th>\n      <th></th>\n    </tr>\n  </thead>\n  <tbody>\n    <tr>\n      <th>2018-01-01 00:00:00</th>\n      <td>14.586875</td>\n    </tr>\n    <tr>\n      <th>2018-01-01 01:00:00</th>\n      <td>12.990924</td>\n    </tr>\n    <tr>\n      <th>2018-01-01 02:00:00</th>\n      <td>22.150235</td>\n    </tr>\n    <tr>\n      <th>2018-01-01 03:00:00</th>\n      <td>21.917514</td>\n    </tr>\n    <tr>\n      <th>2018-01-01 04:00:00</th>\n      <td>21.621781</td>\n    </tr>\n  </tbody>\n</table>\n</div>"
     },
     "metadata": {},
     "execution_count": 3
    }
   ],
   "source": [
    "ID.head(5)"
   ]
  },
  {
   "cell_type": "code",
   "execution_count": 4,
   "metadata": {},
   "outputs": [
    {
     "output_type": "execute_result",
     "data": {
      "text/plain": [
       "                       MCP\n",
       "Instrument                \n",
       "2018-01-01 00:00:00  27.20\n",
       "2018-01-01 01:00:00  27.30\n",
       "2018-01-01 02:00:00  30.10\n",
       "2018-01-01 03:00:00  20.87\n",
       "2018-01-01 04:00:00  25.56"
      ],
      "text/html": "<div>\n<style scoped>\n    .dataframe tbody tr th:only-of-type {\n        vertical-align: middle;\n    }\n\n    .dataframe tbody tr th {\n        vertical-align: top;\n    }\n\n    .dataframe thead th {\n        text-align: right;\n    }\n</style>\n<table border=\"1\" class=\"dataframe\">\n  <thead>\n    <tr style=\"text-align: right;\">\n      <th></th>\n      <th>MCP</th>\n    </tr>\n    <tr>\n      <th>Instrument</th>\n      <th></th>\n    </tr>\n  </thead>\n  <tbody>\n    <tr>\n      <th>2018-01-01 00:00:00</th>\n      <td>27.20</td>\n    </tr>\n    <tr>\n      <th>2018-01-01 01:00:00</th>\n      <td>27.30</td>\n    </tr>\n    <tr>\n      <th>2018-01-01 02:00:00</th>\n      <td>30.10</td>\n    </tr>\n    <tr>\n      <th>2018-01-01 03:00:00</th>\n      <td>20.87</td>\n    </tr>\n    <tr>\n      <th>2018-01-01 04:00:00</th>\n      <td>25.56</td>\n    </tr>\n  </tbody>\n</table>\n</div>"
     },
     "metadata": {},
     "execution_count": 4
    }
   ],
   "source": [
    "DA.head(5)"
   ]
  },
  {
   "cell_type": "code",
   "execution_count": 5,
   "metadata": {},
   "outputs": [
    {
     "output_type": "execute_result",
     "data": {
      "text/plain": [
       "                           ID3    MCP      Load  Load forecast   ID3 (-4)  \\\n",
       "2018-01-01 00:00:00  14.586875  27.20  10823.00       11460.25  21.621781   \n",
       "2018-01-01 01:00:00  12.990924  27.30  10689.75       11047.75  22.352647   \n",
       "2018-01-01 02:00:00  22.150235  30.10  10353.75       10711.00  23.071457   \n",
       "2018-01-01 03:00:00  21.917514  20.87  10032.25       10577.25  24.345686   \n",
       "2018-01-01 04:00:00  21.621781  25.56   9766.25       10653.75  25.257541   \n",
       "\n",
       "                      ID3 (-5)   ID3 (-6)   ID3 (-7)   ID3 (-8)   ID3 (-9)  \\\n",
       "2018-01-01 00:00:00  22.352647  23.071457  24.345686  25.257541  25.114449   \n",
       "2018-01-01 01:00:00  23.071457  24.345686  25.257541  25.114449  24.868167   \n",
       "2018-01-01 02:00:00  24.345686  25.257541  25.114449  24.868167  25.978476   \n",
       "2018-01-01 03:00:00  25.257541  25.114449  24.868167  25.978476  26.555409   \n",
       "2018-01-01 04:00:00  25.114449  24.868167  25.978476  26.555409  28.621735   \n",
       "\n",
       "                     ...  ID3 (-139)  ID3 (-140)  ID3 (-141)  ID3 (-142)  \\\n",
       "2018-01-01 00:00:00  ...   28.133026   25.573566   21.338662   16.894157   \n",
       "2018-01-01 01:00:00  ...   25.573566   21.338662   16.894157   13.996110   \n",
       "2018-01-01 02:00:00  ...   21.338662   16.894157   13.996110   10.895444   \n",
       "2018-01-01 03:00:00  ...   16.894157   13.996110   10.895444    4.704599   \n",
       "2018-01-01 04:00:00  ...   13.996110   10.895444    4.704599    4.923619   \n",
       "\n",
       "                     ID3 (-143)  ID3 (-144)  ID3 (-145)  ID3 (-146)  \\\n",
       "2018-01-01 00:00:00   13.996110   10.895444    4.704599    4.923619   \n",
       "2018-01-01 01:00:00   10.895444    4.704599    4.923619    5.496337   \n",
       "2018-01-01 02:00:00    4.704599    4.923619    5.496337    9.487713   \n",
       "2018-01-01 03:00:00    4.923619    5.496337    9.487713   10.044227   \n",
       "2018-01-01 04:00:00    5.496337    9.487713   10.044227   12.999145   \n",
       "\n",
       "                     ID3 (-147)  ID3 (-148)  \n",
       "2018-01-01 00:00:00    5.496337    9.487713  \n",
       "2018-01-01 01:00:00    9.487713   10.044227  \n",
       "2018-01-01 02:00:00   10.044227   12.999145  \n",
       "2018-01-01 03:00:00   12.999145   16.051924  \n",
       "2018-01-01 04:00:00   16.051924   22.510375  \n",
       "\n",
       "[5 rows x 149 columns]"
      ],
      "text/html": "<div>\n<style scoped>\n    .dataframe tbody tr th:only-of-type {\n        vertical-align: middle;\n    }\n\n    .dataframe tbody tr th {\n        vertical-align: top;\n    }\n\n    .dataframe thead th {\n        text-align: right;\n    }\n</style>\n<table border=\"1\" class=\"dataframe\">\n  <thead>\n    <tr style=\"text-align: right;\">\n      <th></th>\n      <th>ID3</th>\n      <th>MCP</th>\n      <th>Load</th>\n      <th>Load forecast</th>\n      <th>ID3 (-4)</th>\n      <th>ID3 (-5)</th>\n      <th>ID3 (-6)</th>\n      <th>ID3 (-7)</th>\n      <th>ID3 (-8)</th>\n      <th>ID3 (-9)</th>\n      <th>...</th>\n      <th>ID3 (-139)</th>\n      <th>ID3 (-140)</th>\n      <th>ID3 (-141)</th>\n      <th>ID3 (-142)</th>\n      <th>ID3 (-143)</th>\n      <th>ID3 (-144)</th>\n      <th>ID3 (-145)</th>\n      <th>ID3 (-146)</th>\n      <th>ID3 (-147)</th>\n      <th>ID3 (-148)</th>\n    </tr>\n  </thead>\n  <tbody>\n    <tr>\n      <th>2018-01-01 00:00:00</th>\n      <td>14.586875</td>\n      <td>27.20</td>\n      <td>10823.00</td>\n      <td>11460.25</td>\n      <td>21.621781</td>\n      <td>22.352647</td>\n      <td>23.071457</td>\n      <td>24.345686</td>\n      <td>25.257541</td>\n      <td>25.114449</td>\n      <td>...</td>\n      <td>28.133026</td>\n      <td>25.573566</td>\n      <td>21.338662</td>\n      <td>16.894157</td>\n      <td>13.996110</td>\n      <td>10.895444</td>\n      <td>4.704599</td>\n      <td>4.923619</td>\n      <td>5.496337</td>\n      <td>9.487713</td>\n    </tr>\n    <tr>\n      <th>2018-01-01 01:00:00</th>\n      <td>12.990924</td>\n      <td>27.30</td>\n      <td>10689.75</td>\n      <td>11047.75</td>\n      <td>22.352647</td>\n      <td>23.071457</td>\n      <td>24.345686</td>\n      <td>25.257541</td>\n      <td>25.114449</td>\n      <td>24.868167</td>\n      <td>...</td>\n      <td>25.573566</td>\n      <td>21.338662</td>\n      <td>16.894157</td>\n      <td>13.996110</td>\n      <td>10.895444</td>\n      <td>4.704599</td>\n      <td>4.923619</td>\n      <td>5.496337</td>\n      <td>9.487713</td>\n      <td>10.044227</td>\n    </tr>\n    <tr>\n      <th>2018-01-01 02:00:00</th>\n      <td>22.150235</td>\n      <td>30.10</td>\n      <td>10353.75</td>\n      <td>10711.00</td>\n      <td>23.071457</td>\n      <td>24.345686</td>\n      <td>25.257541</td>\n      <td>25.114449</td>\n      <td>24.868167</td>\n      <td>25.978476</td>\n      <td>...</td>\n      <td>21.338662</td>\n      <td>16.894157</td>\n      <td>13.996110</td>\n      <td>10.895444</td>\n      <td>4.704599</td>\n      <td>4.923619</td>\n      <td>5.496337</td>\n      <td>9.487713</td>\n      <td>10.044227</td>\n      <td>12.999145</td>\n    </tr>\n    <tr>\n      <th>2018-01-01 03:00:00</th>\n      <td>21.917514</td>\n      <td>20.87</td>\n      <td>10032.25</td>\n      <td>10577.25</td>\n      <td>24.345686</td>\n      <td>25.257541</td>\n      <td>25.114449</td>\n      <td>24.868167</td>\n      <td>25.978476</td>\n      <td>26.555409</td>\n      <td>...</td>\n      <td>16.894157</td>\n      <td>13.996110</td>\n      <td>10.895444</td>\n      <td>4.704599</td>\n      <td>4.923619</td>\n      <td>5.496337</td>\n      <td>9.487713</td>\n      <td>10.044227</td>\n      <td>12.999145</td>\n      <td>16.051924</td>\n    </tr>\n    <tr>\n      <th>2018-01-01 04:00:00</th>\n      <td>21.621781</td>\n      <td>25.56</td>\n      <td>9766.25</td>\n      <td>10653.75</td>\n      <td>25.257541</td>\n      <td>25.114449</td>\n      <td>24.868167</td>\n      <td>25.978476</td>\n      <td>26.555409</td>\n      <td>28.621735</td>\n      <td>...</td>\n      <td>13.996110</td>\n      <td>10.895444</td>\n      <td>4.704599</td>\n      <td>4.923619</td>\n      <td>5.496337</td>\n      <td>9.487713</td>\n      <td>10.044227</td>\n      <td>12.999145</td>\n      <td>16.051924</td>\n      <td>22.510375</td>\n    </tr>\n  </tbody>\n</table>\n<p>5 rows × 149 columns</p>\n</div>"
     },
     "metadata": {},
     "execution_count": 5
    }
   ],
   "source": [
    "features.head(5)"
   ]
  },
  {
   "source": [
    "# Separate train and test sets"
   ],
   "cell_type": "markdown",
   "metadata": {}
  },
  {
   "cell_type": "code",
   "execution_count": 6,
   "metadata": {},
   "outputs": [
    {
     "output_type": "execute_result",
     "data": {
      "text/plain": [
       "((5551, 147), (2380, 147))"
      ]
     },
     "metadata": {},
     "execution_count": 6
    }
   ],
   "source": [
    "X_train, X_test, y_train, y_test = train_test_split(\n",
    "    features.drop(labels=['ID3', 'Load forecast'], axis=1),\n",
    "    features['ID3'],\n",
    "    test_size = 0.3,\n",
    "    random_state = 0,\n",
    "    shuffle = True)\n",
    "\n",
    "X_train.shape, X_test.shape"
   ]
  },
  {
   "cell_type": "code",
   "execution_count": 7,
   "metadata": {},
   "outputs": [
    {
     "output_type": "execute_result",
     "data": {
      "text/plain": [
       "                       MCP      Load   ID3 (-4)   ID3 (-5)   ID3 (-6)  \\\n",
       "2018-05-03 13:00:00  38.61  13076.50  52.015268  51.006758  47.733694   \n",
       "2018-01-26 16:00:00  48.25  16775.00  39.925535  42.101536  41.918745   \n",
       "2018-09-11 13:00:00  70.00  14596.00  77.548151  75.424293  73.588320   \n",
       "2018-12-16 22:00:00  56.92  12952.25  58.666775  62.722978  70.149414   \n",
       "2018-08-27 22:00:00  54.64  12002.00  54.784392  61.940540  74.031672   \n",
       "\n",
       "                      ID3 (-7)   ID3 (-8)   ID3 (-9)  ID3 (-10)  ID3 (-11)  \\\n",
       "2018-05-03 13:00:00  44.376636  43.058198  41.689196  40.469163  35.205805   \n",
       "2018-01-26 16:00:00  40.063780  35.150921  33.951000  34.082588  33.285765   \n",
       "2018-09-11 13:00:00  61.398192  56.647576  52.113629  51.925212  48.779920   \n",
       "2018-12-16 22:00:00  74.805337  74.785691  75.115117  73.414276  73.727312   \n",
       "2018-08-27 22:00:00  87.291319  93.491137  86.833391  84.702287  75.583436   \n",
       "\n",
       "                     ...  ID3 (-139)  ID3 (-140)  ID3 (-141)  ID3 (-142)  \\\n",
       "2018-05-03 13:00:00  ...   72.060866   50.615229   47.282028   43.711200   \n",
       "2018-01-26 16:00:00  ...   63.226417   70.535615   63.499484   56.231114   \n",
       "2018-09-11 13:00:00  ...   53.872761   50.743267   56.051835   63.324357   \n",
       "2018-12-16 22:00:00  ...   69.180784   70.461262   67.409818   61.838669   \n",
       "2018-08-27 22:00:00  ...   68.325695   68.329344   69.055205   66.750018   \n",
       "\n",
       "                     ID3 (-143)  ID3 (-144)  ID3 (-145)  ID3 (-146)  \\\n",
       "2018-05-03 13:00:00   45.261673   47.598988   49.075267   49.155460   \n",
       "2018-01-26 16:00:00   52.288030   53.306764   52.696084   50.771934   \n",
       "2018-09-11 13:00:00   69.422585   73.439432   74.115821   78.781368   \n",
       "2018-12-16 22:00:00   64.747692   59.653026   54.260255   53.110401   \n",
       "2018-08-27 22:00:00   61.526929   58.000790   57.201008   57.674137   \n",
       "\n",
       "                     ID3 (-147)  ID3 (-148)  \n",
       "2018-05-03 13:00:00   48.127858   50.171621  \n",
       "2018-01-26 16:00:00   48.730095   41.783780  \n",
       "2018-09-11 13:00:00   79.446161   82.135151  \n",
       "2018-12-16 22:00:00   42.290105   40.798089  \n",
       "2018-08-27 22:00:00   64.186213   66.739429  \n",
       "\n",
       "[5 rows x 147 columns]"
      ],
      "text/html": "<div>\n<style scoped>\n    .dataframe tbody tr th:only-of-type {\n        vertical-align: middle;\n    }\n\n    .dataframe tbody tr th {\n        vertical-align: top;\n    }\n\n    .dataframe thead th {\n        text-align: right;\n    }\n</style>\n<table border=\"1\" class=\"dataframe\">\n  <thead>\n    <tr style=\"text-align: right;\">\n      <th></th>\n      <th>MCP</th>\n      <th>Load</th>\n      <th>ID3 (-4)</th>\n      <th>ID3 (-5)</th>\n      <th>ID3 (-6)</th>\n      <th>ID3 (-7)</th>\n      <th>ID3 (-8)</th>\n      <th>ID3 (-9)</th>\n      <th>ID3 (-10)</th>\n      <th>ID3 (-11)</th>\n      <th>...</th>\n      <th>ID3 (-139)</th>\n      <th>ID3 (-140)</th>\n      <th>ID3 (-141)</th>\n      <th>ID3 (-142)</th>\n      <th>ID3 (-143)</th>\n      <th>ID3 (-144)</th>\n      <th>ID3 (-145)</th>\n      <th>ID3 (-146)</th>\n      <th>ID3 (-147)</th>\n      <th>ID3 (-148)</th>\n    </tr>\n  </thead>\n  <tbody>\n    <tr>\n      <th>2018-05-03 13:00:00</th>\n      <td>38.61</td>\n      <td>13076.50</td>\n      <td>52.015268</td>\n      <td>51.006758</td>\n      <td>47.733694</td>\n      <td>44.376636</td>\n      <td>43.058198</td>\n      <td>41.689196</td>\n      <td>40.469163</td>\n      <td>35.205805</td>\n      <td>...</td>\n      <td>72.060866</td>\n      <td>50.615229</td>\n      <td>47.282028</td>\n      <td>43.711200</td>\n      <td>45.261673</td>\n      <td>47.598988</td>\n      <td>49.075267</td>\n      <td>49.155460</td>\n      <td>48.127858</td>\n      <td>50.171621</td>\n    </tr>\n    <tr>\n      <th>2018-01-26 16:00:00</th>\n      <td>48.25</td>\n      <td>16775.00</td>\n      <td>39.925535</td>\n      <td>42.101536</td>\n      <td>41.918745</td>\n      <td>40.063780</td>\n      <td>35.150921</td>\n      <td>33.951000</td>\n      <td>34.082588</td>\n      <td>33.285765</td>\n      <td>...</td>\n      <td>63.226417</td>\n      <td>70.535615</td>\n      <td>63.499484</td>\n      <td>56.231114</td>\n      <td>52.288030</td>\n      <td>53.306764</td>\n      <td>52.696084</td>\n      <td>50.771934</td>\n      <td>48.730095</td>\n      <td>41.783780</td>\n    </tr>\n    <tr>\n      <th>2018-09-11 13:00:00</th>\n      <td>70.00</td>\n      <td>14596.00</td>\n      <td>77.548151</td>\n      <td>75.424293</td>\n      <td>73.588320</td>\n      <td>61.398192</td>\n      <td>56.647576</td>\n      <td>52.113629</td>\n      <td>51.925212</td>\n      <td>48.779920</td>\n      <td>...</td>\n      <td>53.872761</td>\n      <td>50.743267</td>\n      <td>56.051835</td>\n      <td>63.324357</td>\n      <td>69.422585</td>\n      <td>73.439432</td>\n      <td>74.115821</td>\n      <td>78.781368</td>\n      <td>79.446161</td>\n      <td>82.135151</td>\n    </tr>\n    <tr>\n      <th>2018-12-16 22:00:00</th>\n      <td>56.92</td>\n      <td>12952.25</td>\n      <td>58.666775</td>\n      <td>62.722978</td>\n      <td>70.149414</td>\n      <td>74.805337</td>\n      <td>74.785691</td>\n      <td>75.115117</td>\n      <td>73.414276</td>\n      <td>73.727312</td>\n      <td>...</td>\n      <td>69.180784</td>\n      <td>70.461262</td>\n      <td>67.409818</td>\n      <td>61.838669</td>\n      <td>64.747692</td>\n      <td>59.653026</td>\n      <td>54.260255</td>\n      <td>53.110401</td>\n      <td>42.290105</td>\n      <td>40.798089</td>\n    </tr>\n    <tr>\n      <th>2018-08-27 22:00:00</th>\n      <td>54.64</td>\n      <td>12002.00</td>\n      <td>54.784392</td>\n      <td>61.940540</td>\n      <td>74.031672</td>\n      <td>87.291319</td>\n      <td>93.491137</td>\n      <td>86.833391</td>\n      <td>84.702287</td>\n      <td>75.583436</td>\n      <td>...</td>\n      <td>68.325695</td>\n      <td>68.329344</td>\n      <td>69.055205</td>\n      <td>66.750018</td>\n      <td>61.526929</td>\n      <td>58.000790</td>\n      <td>57.201008</td>\n      <td>57.674137</td>\n      <td>64.186213</td>\n      <td>66.739429</td>\n    </tr>\n  </tbody>\n</table>\n<p>5 rows × 147 columns</p>\n</div>"
     },
     "metadata": {},
     "execution_count": 7
    }
   ],
   "source": [
    "X_train.head(5)"
   ]
  },
  {
   "source": [
    "# Random forest"
   ],
   "cell_type": "markdown",
   "metadata": {}
  },
  {
   "cell_type": "code",
   "execution_count": 8,
   "metadata": {},
   "outputs": [
    {
     "output_type": "execute_result",
     "data": {
      "text/plain": [
       "SelectFromModel(estimator=RandomForestClassifier(n_estimators=10,\n",
       "                                                 random_state=10))"
      ]
     },
     "metadata": {},
     "execution_count": 8
    }
   ],
   "source": [
    "lab_enc = LabelEncoder()\n",
    "y_train = lab_enc.fit_transform(y_train)\n",
    "\n",
    "sel_ = SelectFromModel(RandomForestClassifier(n_estimators=10, random_state=10))\n",
    "sel_.fit(X_train, y_train)"
   ]
  },
  {
   "source": [
    "# Visualise"
   ],
   "cell_type": "markdown",
   "metadata": {}
  },
  {
   "cell_type": "code",
   "execution_count": 9,
   "metadata": {},
   "outputs": [
    {
     "output_type": "execute_result",
     "data": {
      "text/plain": [
       "array([ True,  True,  True,  True, False,  True, False,  True,  True,\n",
       "        True,  True,  True,  True,  True,  True,  True,  True,  True,\n",
       "        True, False, False,  True, False, False, False,  True,  True,\n",
       "       False,  True,  True,  True, False, False,  True,  True,  True,\n",
       "       False, False, False, False, False,  True, False, False, False,\n",
       "       False, False, False, False,  True,  True, False, False, False,\n",
       "        True, False,  True, False, False,  True,  True, False,  True,\n",
       "        True,  True,  True, False, False,  True, False,  True, False,\n",
       "       False, False,  True, False,  True, False, False, False, False,\n",
       "       False,  True, False,  True,  True, False, False,  True, False,\n",
       "        True, False, False, False,  True, False,  True,  True,  True,\n",
       "       False, False, False, False, False, False,  True, False, False,\n",
       "       False, False, False, False,  True, False, False, False,  True,\n",
       "       False, False,  True, False, False,  True, False, False, False,\n",
       "        True, False,  True, False, False, False,  True,  True, False,\n",
       "        True,  True, False,  True, False,  True,  True,  True, False,\n",
       "        True,  True,  True])"
      ]
     },
     "metadata": {},
     "execution_count": 9
    }
   ],
   "source": [
    "sel_.get_support()"
   ]
  },
  {
   "cell_type": "code",
   "execution_count": 10,
   "metadata": {},
   "outputs": [
    {
     "output_type": "execute_result",
     "data": {
      "text/plain": [
       "Index(['MCP', 'Load', 'ID3 (-4)', 'ID3 (-5)', 'ID3 (-7)', 'ID3 (-9)',\n",
       "       'ID3 (-10)', 'ID3 (-11)', 'ID3 (-12)', 'ID3 (-13)', 'ID3 (-14)',\n",
       "       'ID3 (-15)', 'ID3 (-16)', 'ID3 (-17)', 'ID3 (-18)', 'ID3 (-19)',\n",
       "       'ID3 (-20)', 'ID3 (-23)', 'ID3 (-27)', 'ID3 (-28)', 'ID3 (-30)',\n",
       "       'ID3 (-31)', 'ID3 (-32)', 'ID3 (-35)', 'ID3 (-36)', 'ID3 (-37)',\n",
       "       'ID3 (-43)', 'ID3 (-51)', 'ID3 (-52)', 'ID3 (-56)', 'ID3 (-58)',\n",
       "       'ID3 (-61)', 'ID3 (-62)', 'ID3 (-64)', 'ID3 (-65)', 'ID3 (-66)',\n",
       "       'ID3 (-67)', 'ID3 (-70)', 'ID3 (-72)', 'ID3 (-76)', 'ID3 (-78)',\n",
       "       'ID3 (-84)', 'ID3 (-86)', 'ID3 (-87)', 'ID3 (-90)', 'ID3 (-92)',\n",
       "       'ID3 (-96)', 'ID3 (-98)', 'ID3 (-99)', 'ID3 (-100)', 'ID3 (-107)',\n",
       "       'ID3 (-114)', 'ID3 (-118)', 'ID3 (-121)', 'ID3 (-124)', 'ID3 (-128)',\n",
       "       'ID3 (-130)', 'ID3 (-134)', 'ID3 (-135)', 'ID3 (-137)', 'ID3 (-138)',\n",
       "       'ID3 (-140)', 'ID3 (-142)', 'ID3 (-143)', 'ID3 (-144)', 'ID3 (-146)',\n",
       "       'ID3 (-147)', 'ID3 (-148)'],\n",
       "      dtype='object')"
      ]
     },
     "metadata": {},
     "execution_count": 10
    }
   ],
   "source": [
    "X_train.columns[sel_.get_support()]"
   ]
  },
  {
   "cell_type": "code",
   "execution_count": 11,
   "metadata": {},
   "outputs": [
    {
     "output_type": "execute_result",
     "data": {
      "text/plain": [
       "68"
      ]
     },
     "metadata": {},
     "execution_count": 11
    }
   ],
   "source": [
    "features_selected = X_train.columns[(sel_.get_support())]\n",
    "\n",
    "len(features_selected)"
   ]
  },
  {
   "cell_type": "code",
   "execution_count": 12,
   "metadata": {},
   "outputs": [
    {
     "output_type": "execute_result",
     "data": {
      "text/plain": [
       "Index(['MCP', 'Load', 'ID3 (-4)', 'ID3 (-5)', 'ID3 (-7)', 'ID3 (-9)',\n",
       "       'ID3 (-10)', 'ID3 (-11)', 'ID3 (-12)', 'ID3 (-13)', 'ID3 (-14)',\n",
       "       'ID3 (-15)', 'ID3 (-16)', 'ID3 (-17)', 'ID3 (-18)', 'ID3 (-19)',\n",
       "       'ID3 (-20)', 'ID3 (-23)', 'ID3 (-27)', 'ID3 (-28)', 'ID3 (-30)',\n",
       "       'ID3 (-31)', 'ID3 (-32)', 'ID3 (-35)', 'ID3 (-36)', 'ID3 (-37)',\n",
       "       'ID3 (-43)', 'ID3 (-51)', 'ID3 (-52)', 'ID3 (-56)', 'ID3 (-58)',\n",
       "       'ID3 (-61)', 'ID3 (-62)', 'ID3 (-64)', 'ID3 (-65)', 'ID3 (-66)',\n",
       "       'ID3 (-67)', 'ID3 (-70)', 'ID3 (-72)', 'ID3 (-76)', 'ID3 (-78)',\n",
       "       'ID3 (-84)', 'ID3 (-86)', 'ID3 (-87)', 'ID3 (-90)', 'ID3 (-92)',\n",
       "       'ID3 (-96)', 'ID3 (-98)', 'ID3 (-99)', 'ID3 (-100)', 'ID3 (-107)',\n",
       "       'ID3 (-114)', 'ID3 (-118)', 'ID3 (-121)', 'ID3 (-124)', 'ID3 (-128)',\n",
       "       'ID3 (-130)', 'ID3 (-134)', 'ID3 (-135)', 'ID3 (-137)', 'ID3 (-138)',\n",
       "       'ID3 (-140)', 'ID3 (-142)', 'ID3 (-143)', 'ID3 (-144)', 'ID3 (-146)',\n",
       "       'ID3 (-147)', 'ID3 (-148)'],\n",
       "      dtype='object')"
      ]
     },
     "metadata": {},
     "execution_count": 12
    }
   ],
   "source": [
    "features_selected"
   ]
  },
  {
   "cell_type": "code",
   "execution_count": 13,
   "metadata": {},
   "outputs": [
    {
     "output_type": "display_data",
     "data": {
      "text/plain": "<Figure size 432x288 with 1 Axes>",
      "image/svg+xml": "<?xml version=\"1.0\" encoding=\"utf-8\" standalone=\"no\"?>\n<!DOCTYPE svg PUBLIC \"-//W3C//DTD SVG 1.1//EN\"\n  \"http://www.w3.org/Graphics/SVG/1.1/DTD/svg11.dtd\">\n<!-- Created with matplotlib (https://matplotlib.org/) -->\n<svg height=\"260.663437pt\" version=\"1.1\" viewBox=\"0 0 380.840625 260.663437\" width=\"380.840625pt\" xmlns=\"http://www.w3.org/2000/svg\" xmlns:xlink=\"http://www.w3.org/1999/xlink\">\n <defs>\n  <style type=\"text/css\">\n*{stroke-linecap:butt;stroke-linejoin:round;}\n  </style>\n </defs>\n <g id=\"figure_1\">\n  <g id=\"patch_1\">\n   <path d=\"M 0 260.663437 \nL 380.840625 260.663437 \nL 380.840625 0 \nL 0 0 \nz\n\" style=\"fill:none;\"/>\n  </g>\n  <g id=\"axes_1\">\n   <g id=\"patch_2\">\n    <path d=\"M 38.840625 224.64 \nL 373.640625 224.64 \nL 373.640625 7.2 \nL 38.840625 7.2 \nz\n\" style=\"fill:#ffffff;\"/>\n   </g>\n   <g id=\"patch_3\">\n    <path clip-path=\"url(#p0300bc0c7b)\" d=\"M 54.058807 224.64 \nL 69.276989 224.64 \nL 69.276989 216.970159 \nL 54.058807 216.970159 \nz\n\" style=\"fill:#2d2e5f;\"/>\n   </g>\n   <g id=\"patch_4\">\n    <path clip-path=\"url(#p0300bc0c7b)\" d=\"M 69.276989 224.64 \nL 84.49517 224.64 \nL 84.49517 224.64 \nL 69.276989 224.64 \nz\n\" style=\"fill:#2d2e5f;\"/>\n   </g>\n   <g id=\"patch_5\">\n    <path clip-path=\"url(#p0300bc0c7b)\" d=\"M 84.49517 224.64 \nL 99.713352 224.64 \nL 99.713352 216.970159 \nL 84.49517 216.970159 \nz\n\" style=\"fill:#2d2e5f;\"/>\n   </g>\n   <g id=\"patch_6\">\n    <path clip-path=\"url(#p0300bc0c7b)\" d=\"M 99.713352 224.64 \nL 114.931534 224.64 \nL 114.931534 201.630476 \nL 99.713352 201.630476 \nz\n\" style=\"fill:#2d2e5f;\"/>\n   </g>\n   <g id=\"patch_7\">\n    <path clip-path=\"url(#p0300bc0c7b)\" d=\"M 114.931534 224.64 \nL 130.149716 224.64 \nL 130.149716 186.290794 \nL 114.931534 186.290794 \nz\n\" style=\"fill:#2d2e5f;\"/>\n   </g>\n   <g id=\"patch_8\">\n    <path clip-path=\"url(#p0300bc0c7b)\" d=\"M 130.149716 224.64 \nL 145.367898 224.64 \nL 145.367898 78.913016 \nL 130.149716 78.913016 \nz\n\" style=\"fill:#2d2e5f;\"/>\n   </g>\n   <g id=\"patch_9\">\n    <path clip-path=\"url(#p0300bc0c7b)\" d=\"M 145.367898 224.64 \nL 160.58608 224.64 \nL 160.58608 55.903492 \nL 145.367898 55.903492 \nz\n\" style=\"fill:#2d2e5f;\"/>\n   </g>\n   <g id=\"patch_10\">\n    <path clip-path=\"url(#p0300bc0c7b)\" d=\"M 160.58608 224.64 \nL 175.804261 224.64 \nL 175.804261 78.913016 \nL 160.58608 78.913016 \nz\n\" style=\"fill:#2d2e5f;\"/>\n   </g>\n   <g id=\"patch_11\">\n    <path clip-path=\"url(#p0300bc0c7b)\" d=\"M 175.804261 224.64 \nL 191.022443 224.64 \nL 191.022443 71.243175 \nL 175.804261 71.243175 \nz\n\" style=\"fill:#2d2e5f;\"/>\n   </g>\n   <g id=\"patch_12\">\n    <path clip-path=\"url(#p0300bc0c7b)\" d=\"M 191.022443 224.64 \nL 206.240625 224.64 \nL 206.240625 17.554286 \nL 191.022443 17.554286 \nz\n\" style=\"fill:#2d2e5f;\"/>\n   </g>\n   <g id=\"patch_13\">\n    <path clip-path=\"url(#p0300bc0c7b)\" d=\"M 206.240625 224.64 \nL 221.458807 224.64 \nL 221.458807 140.271746 \nL 206.240625 140.271746 \nz\n\" style=\"fill:#2d2e5f;\"/>\n   </g>\n   <g id=\"patch_14\">\n    <path clip-path=\"url(#p0300bc0c7b)\" d=\"M 221.458807 224.64 \nL 236.676989 224.64 \nL 236.676989 178.620952 \nL 221.458807 178.620952 \nz\n\" style=\"fill:#2d2e5f;\"/>\n   </g>\n   <g id=\"patch_15\">\n    <path clip-path=\"url(#p0300bc0c7b)\" d=\"M 236.676989 224.64 \nL 251.89517 224.64 \nL 251.89517 193.960635 \nL 236.676989 193.960635 \nz\n\" style=\"fill:#2d2e5f;\"/>\n   </g>\n   <g id=\"patch_16\">\n    <path clip-path=\"url(#p0300bc0c7b)\" d=\"M 251.89517 224.64 \nL 267.113352 224.64 \nL 267.113352 178.620952 \nL 251.89517 178.620952 \nz\n\" style=\"fill:#2d2e5f;\"/>\n   </g>\n   <g id=\"patch_17\">\n    <path clip-path=\"url(#p0300bc0c7b)\" d=\"M 267.113352 224.64 \nL 282.331534 224.64 \nL 282.331534 216.970159 \nL 267.113352 216.970159 \nz\n\" style=\"fill:#2d2e5f;\"/>\n   </g>\n   <g id=\"patch_18\">\n    <path clip-path=\"url(#p0300bc0c7b)\" d=\"M 282.331534 224.64 \nL 297.549716 224.64 \nL 297.549716 224.64 \nL 282.331534 224.64 \nz\n\" style=\"fill:#2d2e5f;\"/>\n   </g>\n   <g id=\"patch_19\">\n    <path clip-path=\"url(#p0300bc0c7b)\" d=\"M 297.549716 224.64 \nL 312.767898 224.64 \nL 312.767898 224.64 \nL 297.549716 224.64 \nz\n\" style=\"fill:#2d2e5f;\"/>\n   </g>\n   <g id=\"patch_20\">\n    <path clip-path=\"url(#p0300bc0c7b)\" d=\"M 312.767898 224.64 \nL 327.98608 224.64 \nL 327.98608 224.64 \nL 312.767898 224.64 \nz\n\" style=\"fill:#2d2e5f;\"/>\n   </g>\n   <g id=\"patch_21\">\n    <path clip-path=\"url(#p0300bc0c7b)\" d=\"M 327.98608 224.64 \nL 343.204261 224.64 \nL 343.204261 216.970159 \nL 327.98608 216.970159 \nz\n\" style=\"fill:#2d2e5f;\"/>\n   </g>\n   <g id=\"patch_22\">\n    <path clip-path=\"url(#p0300bc0c7b)\" d=\"M 343.204261 224.64 \nL 358.422443 224.64 \nL 358.422443 216.970159 \nL 343.204261 216.970159 \nz\n\" style=\"fill:#2d2e5f;\"/>\n   </g>\n   <g id=\"matplotlib.axis_1\">\n    <g id=\"xtick_1\">\n     <g id=\"line2d_1\">\n      <path clip-path=\"url(#p0300bc0c7b)\" d=\"M 55.780425 224.64 \nL 55.780425 7.2 \n\" style=\"fill:none;stroke:#b0b0b0;stroke-linecap:square;stroke-width:0.8;\"/>\n     </g>\n     <g id=\"line2d_2\">\n      <defs>\n       <path d=\"M 0 0 \nL 0 3.5 \n\" id=\"mc47fcdf33a\" style=\"stroke:#000000;stroke-width:0.8;\"/>\n      </defs>\n      <g>\n       <use style=\"stroke:#000000;stroke-width:0.8;\" x=\"55.780425\" xlink:href=\"#mc47fcdf33a\" y=\"224.64\"/>\n      </g>\n     </g>\n     <g id=\"text_1\">\n      <!-- 0.005 -->\n      <defs>\n       <path d=\"M 6.34375 31.9375 \nC 6.34375 11.765625 15.4375 -1.3125 30.859375 -1.3125 \nC 46.34375 -1.3125 55.515625 11.859375 55.515625 31.9375 \nL 55.515625 34.671875 \nC 55.515625 54.890625 46.53125 67.96875 31.0625 67.96875 \nC 15.53125 67.96875 6.34375 54.734375 6.34375 34.671875 \nz\nM 17.390625 34.625 \nC 17.390625 49.65625 22.5625 58.734375 30.953125 58.734375 \nC 39.3125 58.734375 44.484375 49.609375 44.484375 34.625 \nL 44.484375 32.03125 \nC 44.484375 17 39.3125 7.90625 30.953125 7.90625 \nC 22.609375 7.90625 17.390625 16.9375 17.390625 32.03125 \nz\n\" id=\"SFCompactText-Medium-48\"/>\n       <path d=\"M 7.125 6.640625 \nC 7.125 2.15625 10.59375 -0.921875 14.84375 -0.921875 \nC 19.28125 -0.921875 22.703125 2.15625 22.703125 6.640625 \nC 22.703125 11.1875 19.28125 14.359375 14.84375 14.359375 \nC 10.546875 14.359375 7.125 11.234375 7.125 6.640625 \nz\n\" id=\"SFCompactText-Medium-46\"/>\n       <path d=\"M 7.125 16.3125 \nC 7.671875 6.203125 16.703125 -1.3125 29.78125 -1.3125 \nC 44.28125 -1.3125 54.15625 8.015625 54.15625 22.078125 \nC 54.15625 35.75 44.34375 43.609375 32.8125 43.609375 \nC 25.34375 43.609375 20.796875 40.09375 19.390625 37.9375 \nL 18.84375 37.9375 \nL 20.453125 57.46875 \nL 50.640625 57.46875 \nL 50.640625 66.65625 \nL 11.421875 66.65625 \nL 8.546875 28.078125 \nL 18.109375 28.078125 \nC 19.734375 31.0625 23.6875 34.8125 30.078125 34.8125 \nC 37.15625 34.8125 43.265625 29.78125 43.265625 21.734375 \nC 43.265625 12.703125 36.765625 7.71875 30.171875 7.71875 \nC 24.359375 7.71875 18.609375 10.296875 17.4375 16.3125 \nz\n\" id=\"SFCompactText-Medium-53\"/>\n      </defs>\n      <g transform=\"translate(42.028863 238.657187)scale(0.1 -0.1)\">\n       <use xlink:href=\"#SFCompactText-Medium-48\"/>\n       <use x=\"61.865234\" xlink:href=\"#SFCompactText-Medium-46\"/>\n       <use x=\"91.699219\" xlink:href=\"#SFCompactText-Medium-48\"/>\n       <use x=\"153.564453\" xlink:href=\"#SFCompactText-Medium-48\"/>\n       <use x=\"215.429688\" xlink:href=\"#SFCompactText-Medium-53\"/>\n      </g>\n     </g>\n    </g>\n    <g id=\"xtick_2\">\n     <g id=\"line2d_3\">\n      <path clip-path=\"url(#p0300bc0c7b)\" d=\"M 125.243815 224.64 \nL 125.243815 7.2 \n\" style=\"fill:none;stroke:#b0b0b0;stroke-linecap:square;stroke-width:0.8;\"/>\n     </g>\n     <g id=\"line2d_4\">\n      <g>\n       <use style=\"stroke:#000000;stroke-width:0.8;\" x=\"125.243815\" xlink:href=\"#mc47fcdf33a\" y=\"224.64\"/>\n      </g>\n     </g>\n     <g id=\"text_2\">\n      <!-- 0.006 -->\n      <defs>\n       <path d=\"M 53.765625 52.046875 \nC 53.265625 59.625 45.75 67.875 32.328125 67.875 \nC 16.75 67.875 6.34375 56.25 6.34375 31.15625 \nC 6.34375 21.296875 8.25 14.15625 11.328125 9.125 \nC 16.0625 1.421875 23.640625 -1.3125 31.390625 -1.3125 \nC 44.96875 -1.3125 55.125 7.125 55.125 21.875 \nC 55.125 35.84375 44.671875 43.171875 34.234375 43.171875 \nC 24.859375 43.171875 19.625 38.09375 17.71875 33.546875 \nL 17.046875 33.546875 \nC 16.9375 49.75 23.09375 58.84375 32.078125 58.84375 \nC 38.765625 58.84375 42.1875 55.03125 43.015625 52.046875 \nz\nM 18.453125 21.34375 \nC 18.453125 29.046875 23.828125 34.46875 31.5 34.46875 \nC 38.1875 34.46875 44.390625 30.125 44.390625 21.296875 \nC 44.390625 12.15625 38.671875 7.71875 31.453125 7.71875 \nC 24.3125 7.71875 18.453125 12.75 18.453125 21.34375 \nz\n\" id=\"SFCompactText-Medium-54\"/>\n      </defs>\n      <g transform=\"translate(111.416471 238.657187)scale(0.1 -0.1)\">\n       <use xlink:href=\"#SFCompactText-Medium-48\"/>\n       <use x=\"61.865234\" xlink:href=\"#SFCompactText-Medium-46\"/>\n       <use x=\"91.699219\" xlink:href=\"#SFCompactText-Medium-48\"/>\n       <use x=\"153.564453\" xlink:href=\"#SFCompactText-Medium-48\"/>\n       <use x=\"215.429688\" xlink:href=\"#SFCompactText-Medium-54\"/>\n      </g>\n     </g>\n    </g>\n    <g id=\"xtick_3\">\n     <g id=\"line2d_5\">\n      <path clip-path=\"url(#p0300bc0c7b)\" d=\"M 194.707204 224.64 \nL 194.707204 7.2 \n\" style=\"fill:none;stroke:#b0b0b0;stroke-linecap:square;stroke-width:0.8;\"/>\n     </g>\n     <g id=\"line2d_6\">\n      <g>\n       <use style=\"stroke:#000000;stroke-width:0.8;\" x=\"194.707204\" xlink:href=\"#mc47fcdf33a\" y=\"224.64\"/>\n      </g>\n     </g>\n     <g id=\"text_3\">\n      <!-- 0.007 -->\n      <defs>\n       <path d=\"M 5.46875 66.65625 \nL 5.46875 57.421875 \nL 38.578125 57.421875 \nL 38.578125 56.84375 \nL 10.9375 0 \nL 22.5625 0 \nL 49.703125 57.078125 \nL 49.703125 66.65625 \nz\n\" id=\"SFCompactText-Medium-55\"/>\n      </defs>\n      <g transform=\"translate(181.200173 238.657187)scale(0.1 -0.1)\">\n       <use xlink:href=\"#SFCompactText-Medium-48\"/>\n       <use x=\"61.865234\" xlink:href=\"#SFCompactText-Medium-46\"/>\n       <use x=\"91.699219\" xlink:href=\"#SFCompactText-Medium-48\"/>\n       <use x=\"153.564453\" xlink:href=\"#SFCompactText-Medium-48\"/>\n       <use x=\"215.429688\" xlink:href=\"#SFCompactText-Medium-55\"/>\n      </g>\n     </g>\n    </g>\n    <g id=\"xtick_4\">\n     <g id=\"line2d_7\">\n      <path clip-path=\"url(#p0300bc0c7b)\" d=\"M 264.170594 224.64 \nL 264.170594 7.2 \n\" style=\"fill:none;stroke:#b0b0b0;stroke-linecap:square;stroke-width:0.8;\"/>\n     </g>\n     <g id=\"line2d_8\">\n      <g>\n       <use style=\"stroke:#000000;stroke-width:0.8;\" x=\"264.170594\" xlink:href=\"#mc47fcdf33a\" y=\"224.64\"/>\n      </g>\n     </g>\n     <g id=\"text_4\">\n      <!-- 0.008 -->\n      <defs>\n       <path d=\"M 30.515625 -1.3125 \nC 45.265625 -1.3125 55.421875 6.6875 55.421875 18.3125 \nC 55.421875 28.71875 47.5625 33.640625 41.703125 34.90625 \nL 41.703125 35.453125 \nC 46.6875 37.015625 52.828125 41.453125 52.828125 50.296875 \nC 52.828125 60.5 43.796875 67.96875 30.71875 67.96875 \nC 17.625 67.96875 8.546875 60.5 8.546875 50.296875 \nC 8.546875 41.609375 14.453125 37.0625 19.625 35.453125 \nL 19.625 34.90625 \nC 13.8125 33.640625 5.90625 28.8125 5.90625 18.21875 \nC 5.90625 6.640625 15.828125 -1.3125 30.515625 -1.3125 \nz\nM 30.71875 38.765625 \nC 24.078125 38.765625 19.1875 43.0625 19.1875 49.21875 \nC 19.1875 55.328125 24.078125 59.46875 30.71875 59.46875 \nC 37.359375 59.46875 42.1875 55.328125 42.1875 49.21875 \nC 42.1875 43.0625 37.359375 38.765625 30.71875 38.765625 \nz\nM 30.71875 7.078125 \nC 22.859375 7.078125 16.84375 11.859375 16.84375 18.84375 \nC 16.84375 25.875 22.859375 30.71875 30.71875 30.71875 \nC 38.578125 30.71875 44.53125 25.875 44.53125 18.84375 \nC 44.53125 11.859375 38.578125 7.078125 30.71875 7.078125 \nz\n\" id=\"SFCompactText-Medium-56\"/>\n      </defs>\n      <g transform=\"translate(250.333875 238.657187)scale(0.1 -0.1)\">\n       <use xlink:href=\"#SFCompactText-Medium-48\"/>\n       <use x=\"61.865234\" xlink:href=\"#SFCompactText-Medium-46\"/>\n       <use x=\"91.699219\" xlink:href=\"#SFCompactText-Medium-48\"/>\n       <use x=\"153.564453\" xlink:href=\"#SFCompactText-Medium-48\"/>\n       <use x=\"215.429688\" xlink:href=\"#SFCompactText-Medium-56\"/>\n      </g>\n     </g>\n    </g>\n    <g id=\"xtick_5\">\n     <g id=\"line2d_9\">\n      <path clip-path=\"url(#p0300bc0c7b)\" d=\"M 333.633983 224.64 \nL 333.633983 7.2 \n\" style=\"fill:none;stroke:#b0b0b0;stroke-linecap:square;stroke-width:0.8;\"/>\n     </g>\n     <g id=\"line2d_10\">\n      <g>\n       <use style=\"stroke:#000000;stroke-width:0.8;\" x=\"333.633983\" xlink:href=\"#mc47fcdf33a\" y=\"224.64\"/>\n      </g>\n     </g>\n     <g id=\"text_5\">\n      <!-- 0.009 -->\n      <defs>\n       <path d=\"M 7.671875 13.765625 \nC 8.453125 6.203125 15.375 -1.21875 28.65625 -1.21875 \nC 46.1875 -1.21875 54.6875 10.984375 54.6875 34.625 \nC 54.6875 60.84375 42.53125 68.0625 29.9375 68.0625 \nC 16.359375 68.0625 6 59.578125 6 45.3125 \nC 6 31.109375 15.765625 23.09375 27.390625 23.09375 \nC 36.234375 23.09375 41.546875 27.734375 43.5 32.953125 \nL 44.140625 32.953125 \nC 44.53125 19.046875 40.1875 7.765625 28.859375 7.765625 \nC 22.953125 7.765625 19.28125 10.796875 18.453125 13.765625 \nz\nM 42.4375 45.171875 \nC 42.4375 36.28125 36.375 31.890625 29.640625 31.890625 \nC 22.703125 31.890625 16.796875 36.375 16.796875 45.3125 \nC 16.796875 54 22.46875 59.125 29.4375 59.125 \nC 36.859375 59.125 42.4375 54.046875 42.4375 45.171875 \nz\n\" id=\"SFCompactText-Medium-57\"/>\n      </defs>\n      <g transform=\"translate(319.812108 238.657187)scale(0.1 -0.1)\">\n       <use xlink:href=\"#SFCompactText-Medium-48\"/>\n       <use x=\"61.865234\" xlink:href=\"#SFCompactText-Medium-46\"/>\n       <use x=\"91.699219\" xlink:href=\"#SFCompactText-Medium-48\"/>\n       <use x=\"153.564453\" xlink:href=\"#SFCompactText-Medium-48\"/>\n       <use x=\"215.429688\" xlink:href=\"#SFCompactText-Medium-57\"/>\n      </g>\n     </g>\n    </g>\n    <g id=\"text_6\">\n     <!-- Feature importance -->\n     <defs>\n      <path d=\"M 19.875 0 \nL 19.875 27.546875 \nL 47.3125 27.546875 \nL 47.3125 36.8125 \nL 19.875 36.8125 \nL 19.875 57.234375 \nL 49.859375 57.234375 \nL 49.859375 66.65625 \nL 8.796875 66.65625 \nL 8.796875 0 \nz\n\" id=\"SFCompactText-Medium-70\"/>\n      <path d=\"M 28.515625 -0.875 \nC 42.4375 -0.875 48.734375 7.765625 49.359375 13.71875 \nL 38.765625 13.71875 \nC 38.03125 10.5 34.125 7.8125 28.46875 7.8125 \nC 20.84375 7.8125 16.453125 13.28125 16.453125 20.703125 \nL 16.453125 23.25 \nL 49.953125 23.25 \nL 49.953125 29.296875 \nC 49.953125 43.5 40.828125 52.484375 27.875 52.484375 \nC 15.28125 52.484375 5.71875 43.953125 5.71875 29.296875 \nL 5.71875 22.3125 \nC 5.71875 7.765625 14.453125 -0.875 28.515625 -0.875 \nz\nM 16.453125 30.328125 \nL 16.453125 31 \nC 16.453125 38.765625 21.046875 43.953125 27.9375 43.953125 \nC 34.8125 43.953125 39.359375 38.765625 39.359375 31 \nL 39.359375 30.328125 \nz\n\" id=\"SFCompactText-Medium-101\"/>\n      <path d=\"M 22.265625 -0.78125 \nC 29.890625 -0.78125 34.375 2.734375 36.671875 6.6875 \nL 37.15625 6.6875 \nL 37.15625 0 \nL 47.46875 0 \nL 47.46875 34.96875 \nC 47.46875 47.796875 38.328125 52.390625 27.296875 52.390625 \nC 14.453125 52.390625 7.953125 46.578125 7.328125 37.9375 \nL 17.625 37.9375 \nC 18.453125 41.359375 21.09375 43.796875 26.953125 43.796875 \nC 32.90625 43.796875 36.671875 41.015625 36.671875 35.109375 \nL 36.671875 30.28125 \nL 23.640625 30.28125 \nC 11.71875 30.28125 5.375 24.125 5.375 14.984375 \nC 5.375 5.375 12.25 -0.78125 22.265625 -0.78125 \nz\nM 25.640625 7.625 \nC 20.75 7.625 16.265625 10.15625 16.265625 15.53125 \nC 16.265625 19.828125 19.046875 23 25.34375 23 \nL 36.671875 23 \nL 36.671875 17.4375 \nC 36.671875 11.8125 31.78125 7.625 25.640625 7.625 \nz\n\" id=\"SFCompactText-Medium-97\"/>\n      <path d=\"M 11.578125 51.265625 \nL 3.5625 51.265625 \nL 3.5625 42.78125 \nL 11.421875 42.78125 \nL 11.421875 14.5 \nC 11.421875 4.15625 14.84375 -0.34375 27.390625 -0.34375 \nC 29.828125 -0.34375 33.453125 -0.046875 34.328125 0.09375 \nL 34.328125 8.40625 \nC 33.5 8.296875 31.546875 8.203125 30.078125 8.203125 \nC 24.265625 8.203125 22.171875 9.765625 22.171875 15.375 \nL 22.171875 42.78125 \nL 33.734375 42.78125 \nL 33.734375 51.265625 \nL 22.171875 51.265625 \nL 22.171875 64.15625 \nL 11.578125 64.15625 \nz\n\" id=\"SFCompactText-Medium-116\"/>\n      <path d=\"M 51.765625 51.609375 \nL 40.921875 51.609375 \nL 40.921875 19.828125 \nC 40.921875 13.328125 35.640625 8.40625 28.953125 8.40625 \nC 23.484375 8.40625 18.65625 10.84375 18.65625 19.046875 \nL 18.65625 51.609375 \nL 7.8125 51.609375 \nL 7.8125 16.21875 \nC 7.8125 4.109375 14.984375 -0.78125 25.296875 -0.78125 \nC 34.328125 -0.78125 39.109375 4.4375 40.53125 8.59375 \nL 41.109375 8.59375 \nL 41.109375 0 \nL 51.765625 0 \nz\n\" id=\"SFCompactText-Medium-117\"/>\n      <path d=\"M 8.84375 0 \nL 19.828125 0 \nL 19.828125 30.71875 \nC 19.828125 37.703125 24.078125 42.875 32.765625 42.875 \nC 34.578125 42.875 36.46875 42.71875 37.40625 42.484375 \nL 37.40625 52.046875 \nC 36.375 52.25 35.203125 52.34375 33.734375 52.34375 \nC 25.09375 52.34375 21.34375 47.015625 20.21875 43.5625 \nL 19.625 43.5625 \nL 19.625 51.609375 \nL 8.84375 51.609375 \nz\n\" id=\"SFCompactText-Medium-114\"/>\n      <path id=\"SFCompactText-Medium-32\"/>\n      <path d=\"M 7.515625 67.140625 \nC 7.515625 63.28125 10.5 60.59375 14.59375 60.59375 \nC 18.890625 60.59375 21.875 63.28125 21.875 67.140625 \nC 21.875 71.046875 18.890625 73.78125 14.59375 73.78125 \nC 10.5 73.78125 7.515625 71.046875 7.515625 67.140625 \nz\nM 9.28125 0 \nL 20.0625 0 \nL 20.0625 51.609375 \nL 9.28125 51.609375 \nz\n\" id=\"SFCompactText-Medium-105\"/>\n      <path d=\"M 8.15625 0 \nL 19 0 \nL 19 32.125 \nC 19 39.015625 23.296875 43.3125 29.15625 43.3125 \nC 35.109375 43.3125 39.109375 39.359375 39.109375 32.671875 \nL 39.109375 0 \nL 49.65625 0 \nL 49.65625 32.03125 \nC 49.65625 38.875 54.15625 43.3125 59.96875 43.3125 \nC 66.15625 43.3125 69.78125 39.5 69.78125 32.953125 \nL 69.78125 0 \nL 80.5625 0 \nL 80.5625 36.1875 \nC 80.5625 46.390625 74.3125 52.390625 63.765625 52.390625 \nC 54.984375 52.390625 50 47.609375 48.09375 42.71875 \nL 47.65625 42.71875 \nC 46.046875 48.25 41.21875 52.390625 33.40625 52.390625 \nC 23.96875 52.390625 20.515625 46.96875 19.34375 43.21875 \nL 18.796875 43.21875 \nL 18.796875 51.609375 \nL 8.15625 51.609375 \nz\n\" id=\"SFCompactText-Medium-109\"/>\n      <path d=\"M 34.328125 -0.734375 \nC 46.53125 -0.734375 54 7.8125 54 21.828125 \nL 54 29.78125 \nC 54 43.75 46.578125 52.296875 34.578125 52.296875 \nC 27.203125 52.296875 21.390625 48.96875 19.28125 43.40625 \nL 18.75 43.40625 \nL 18.75 51.609375 \nL 8.203125 51.609375 \nL 8.203125 -17.140625 \nL 19.046875 -17.140625 \nL 19.046875 7.765625 \nL 19.578125 7.765625 \nC 21.921875 2.34375 27.25 -0.734375 34.328125 -0.734375 \nz\nM 31.25 8.15625 \nC 23.96875 8.15625 19.046875 13.53125 19.046875 21.4375 \nL 19.046875 29.296875 \nC 19.046875 38.03125 23.640625 43.40625 31.0625 43.40625 \nC 38.71875 43.40625 43.015625 37.890625 43.015625 28.21875 \nL 43.015625 23.25 \nC 43.015625 13.671875 38.71875 8.15625 31.25 8.15625 \nz\n\" id=\"SFCompactText-Medium-112\"/>\n      <path d=\"M 28.71875 52.484375 \nC 15.1875 52.484375 5.71875 43.3125 5.71875 29.203125 \nL 5.71875 22.515625 \nC 5.71875 7.46875 15.046875 -0.875 28.71875 -0.875 \nC 42.1875 -0.875 51.609375 7.5625 51.609375 22.5625 \nL 51.609375 29.25 \nC 51.609375 43.75 42.1875 52.484375 28.71875 52.484375 \nz\nM 28.765625 43.75 \nC 36.46875 43.75 40.71875 37.3125 40.71875 28.65625 \nL 40.71875 22.90625 \nC 40.71875 14.203125 36.671875 7.859375 28.765625 7.859375 \nC 20.75 7.859375 16.65625 14.265625 16.65625 22.90625 \nL 16.65625 28.65625 \nC 16.65625 37.3125 21.046875 43.75 28.765625 43.75 \nz\n\" id=\"SFCompactText-Medium-111\"/>\n      <path d=\"M 8.15625 0 \nL 19 0 \nL 19 28.65625 \nC 19 37.015625 23.1875 43.171875 31.203125 43.171875 \nC 37.3125 43.171875 41.40625 39.546875 41.40625 31.6875 \nL 41.40625 0 \nL 52.25 0 \nL 52.25 34.859375 \nC 52.25 46.625 45.265625 52.390625 34.859375 52.390625 \nC 24.421875 52.390625 20.65625 46.390625 19.34375 42.328125 \nL 18.796875 42.328125 \nL 18.796875 51.609375 \nL 8.15625 51.609375 \nz\n\" id=\"SFCompactText-Medium-110\"/>\n      <path d=\"M 5.71875 22.21875 \nC 5.71875 7.953125 14.203125 -0.875 27.984375 -0.875 \nC 41.84375 -0.875 48.53125 6.734375 48.828125 15.484375 \nL 38.578125 15.484375 \nC 37.84375 11.375 35.15625 8.109375 28.265625 8.109375 \nC 20.953125 8.109375 16.609375 13.53125 16.609375 22.21875 \nL 16.609375 29.4375 \nC 16.609375 37.984375 20.65625 43.453125 28.21875 43.453125 \nC 35.40625 43.453125 37.84375 38.875 38.28125 35.59375 \nL 48.53125 35.59375 \nC 48.296875 44.390625 41.15625 52.484375 27.984375 52.484375 \nC 14.3125 52.484375 5.71875 43.5 5.71875 29.6875 \nz\n\" id=\"SFCompactText-Medium-99\"/>\n     </defs>\n     <g transform=\"translate(160.18125 251.749375)scale(0.1 -0.1)\">\n      <use xlink:href=\"#SFCompactText-Medium-70\"/>\n      <use x=\"53.90625\" xlink:href=\"#SFCompactText-Medium-101\"/>\n      <use x=\"109.375\" xlink:href=\"#SFCompactText-Medium-97\"/>\n      <use x=\"164.697266\" xlink:href=\"#SFCompactText-Medium-116\"/>\n      <use x=\"203.759766\" xlink:href=\"#SFCompactText-Medium-117\"/>\n      <use x=\"263.671875\" xlink:href=\"#SFCompactText-Medium-114\"/>\n      <use x=\"304.052734\" xlink:href=\"#SFCompactText-Medium-101\"/>\n      <use x=\"359.521484\" xlink:href=\"#SFCompactText-Medium-32\"/>\n      <use x=\"381.933594\" xlink:href=\"#SFCompactText-Medium-105\"/>\n      <use x=\"411.279297\" xlink:href=\"#SFCompactText-Medium-109\"/>\n      <use x=\"499.804688\" xlink:href=\"#SFCompactText-Medium-112\"/>\n      <use x=\"559.667969\" xlink:href=\"#SFCompactText-Medium-111\"/>\n      <use x=\"617.041016\" xlink:href=\"#SFCompactText-Medium-114\"/>\n      <use x=\"657.421875\" xlink:href=\"#SFCompactText-Medium-116\"/>\n      <use x=\"696.484375\" xlink:href=\"#SFCompactText-Medium-97\"/>\n      <use x=\"751.806641\" xlink:href=\"#SFCompactText-Medium-110\"/>\n      <use x=\"811.962891\" xlink:href=\"#SFCompactText-Medium-99\"/>\n      <use x=\"865.722656\" xlink:href=\"#SFCompactText-Medium-101\"/>\n     </g>\n    </g>\n   </g>\n   <g id=\"matplotlib.axis_2\">\n    <g id=\"ytick_1\">\n     <g id=\"line2d_11\">\n      <path clip-path=\"url(#p0300bc0c7b)\" d=\"M 38.840625 224.64 \nL 373.640625 224.64 \n\" style=\"fill:none;stroke:#b0b0b0;stroke-linecap:square;stroke-width:0.8;\"/>\n     </g>\n     <g id=\"line2d_12\">\n      <defs>\n       <path d=\"M 0 0 \nL -3.5 0 \n\" id=\"m70e8f227dc\" style=\"stroke:#000000;stroke-width:0.8;\"/>\n      </defs>\n      <g>\n       <use style=\"stroke:#000000;stroke-width:0.8;\" x=\"38.840625\" xlink:href=\"#m70e8f227dc\" y=\"224.64\"/>\n      </g>\n     </g>\n     <g id=\"text_7\">\n      <!-- 0 -->\n      <g transform=\"translate(25.654688 228.148594)scale(0.1 -0.1)\">\n       <use xlink:href=\"#SFCompactText-Medium-48\"/>\n      </g>\n     </g>\n    </g>\n    <g id=\"ytick_2\">\n     <g id=\"line2d_13\">\n      <path clip-path=\"url(#p0300bc0c7b)\" d=\"M 38.840625 186.290794 \nL 373.640625 186.290794 \n\" style=\"fill:none;stroke:#b0b0b0;stroke-linecap:square;stroke-width:0.8;\"/>\n     </g>\n     <g id=\"line2d_14\">\n      <g>\n       <use style=\"stroke:#000000;stroke-width:0.8;\" x=\"38.840625\" xlink:href=\"#m70e8f227dc\" y=\"186.290794\"/>\n      </g>\n     </g>\n     <g id=\"text_8\">\n      <!-- 5 -->\n      <g transform=\"translate(25.878125 189.799387)scale(0.1 -0.1)\">\n       <use xlink:href=\"#SFCompactText-Medium-53\"/>\n      </g>\n     </g>\n    </g>\n    <g id=\"ytick_3\">\n     <g id=\"line2d_15\">\n      <path clip-path=\"url(#p0300bc0c7b)\" d=\"M 38.840625 147.941587 \nL 373.640625 147.941587 \n\" style=\"fill:none;stroke:#b0b0b0;stroke-linecap:square;stroke-width:0.8;\"/>\n     </g>\n     <g id=\"line2d_16\">\n      <g>\n       <use style=\"stroke:#000000;stroke-width:0.8;\" x=\"38.840625\" xlink:href=\"#m70e8f227dc\" y=\"147.941587\"/>\n      </g>\n     </g>\n     <g id=\"text_9\">\n      <!-- 10 -->\n      <defs>\n       <path d=\"M 33.984375 0 \nL 33.984375 66.65625 \nL 23.046875 66.65625 \nL 7.234375 55.125 \nL 7.234375 44.53125 \nL 22.515625 55.515625 \nL 23.046875 55.515625 \nL 23.046875 0 \nz\n\" id=\"SFCompactText-Medium-49\"/>\n      </defs>\n      <g transform=\"translate(21.001563 151.450181)scale(0.1 -0.1)\">\n       <use xlink:href=\"#SFCompactText-Medium-49\"/>\n       <use x=\"46.533203\" xlink:href=\"#SFCompactText-Medium-48\"/>\n      </g>\n     </g>\n    </g>\n    <g id=\"ytick_4\">\n     <g id=\"line2d_17\">\n      <path clip-path=\"url(#p0300bc0c7b)\" d=\"M 38.840625 109.592381 \nL 373.640625 109.592381 \n\" style=\"fill:none;stroke:#b0b0b0;stroke-linecap:square;stroke-width:0.8;\"/>\n     </g>\n     <g id=\"line2d_18\">\n      <g>\n       <use style=\"stroke:#000000;stroke-width:0.8;\" x=\"38.840625\" xlink:href=\"#m70e8f227dc\" y=\"109.592381\"/>\n      </g>\n     </g>\n     <g id=\"text_10\">\n      <!-- 15 -->\n      <g transform=\"translate(21.225 113.100975)scale(0.1 -0.1)\">\n       <use xlink:href=\"#SFCompactText-Medium-49\"/>\n       <use x=\"46.533203\" xlink:href=\"#SFCompactText-Medium-53\"/>\n      </g>\n     </g>\n    </g>\n    <g id=\"ytick_5\">\n     <g id=\"line2d_19\">\n      <path clip-path=\"url(#p0300bc0c7b)\" d=\"M 38.840625 71.243175 \nL 373.640625 71.243175 \n\" style=\"fill:none;stroke:#b0b0b0;stroke-linecap:square;stroke-width:0.8;\"/>\n     </g>\n     <g id=\"line2d_20\">\n      <g>\n       <use style=\"stroke:#000000;stroke-width:0.8;\" x=\"38.840625\" xlink:href=\"#m70e8f227dc\" y=\"71.243175\"/>\n      </g>\n     </g>\n     <g id=\"text_11\">\n      <!-- 20 -->\n      <defs>\n       <path d=\"M 17.328125 47.40625 \nC 17.328125 47.515625 17.328125 47.859375 17.328125 48 \nC 17.328125 53.765625 21.4375 58.890625 28.46875 58.890625 \nC 34.765625 58.890625 39.40625 54.78125 39.40625 48.578125 \nC 39.40625 42.78125 35.5 38.328125 31.890625 34.375 \nL 7.125 6.9375 \nL 7.125 0 \nL 51.65625 0 \nL 51.65625 9.234375 \nL 22.515625 9.234375 \nL 22.515625 9.859375 \nL 38.96875 28.375 \nC 45.015625 35.109375 50.484375 40.765625 50.484375 49.515625 \nC 50.484375 60.0625 41.890625 67.96875 28.71875 67.96875 \nC 14.0625 67.96875 6.734375 58.0625 6.734375 47.953125 \nL 6.734375 47.40625 \nz\n\" id=\"SFCompactText-Medium-50\"/>\n      </defs>\n      <g transform=\"translate(19.93125 74.751768)scale(0.1 -0.1)\">\n       <use xlink:href=\"#SFCompactText-Medium-50\"/>\n       <use x=\"57.226562\" xlink:href=\"#SFCompactText-Medium-48\"/>\n      </g>\n     </g>\n    </g>\n    <g id=\"ytick_6\">\n     <g id=\"line2d_21\">\n      <path clip-path=\"url(#p0300bc0c7b)\" d=\"M 38.840625 32.893968 \nL 373.640625 32.893968 \n\" style=\"fill:none;stroke:#b0b0b0;stroke-linecap:square;stroke-width:0.8;\"/>\n     </g>\n     <g id=\"line2d_22\">\n      <g>\n       <use style=\"stroke:#000000;stroke-width:0.8;\" x=\"38.840625\" xlink:href=\"#m70e8f227dc\" y=\"32.893968\"/>\n      </g>\n     </g>\n     <g id=\"text_12\">\n      <!-- 25 -->\n      <g transform=\"translate(20.154688 36.402562)scale(0.1 -0.1)\">\n       <use xlink:href=\"#SFCompactText-Medium-50\"/>\n       <use x=\"57.226562\" xlink:href=\"#SFCompactText-Medium-53\"/>\n      </g>\n     </g>\n    </g>\n    <g id=\"text_13\">\n     <!-- Number of Features -->\n     <defs>\n      <path d=\"M 19.4375 0 \nL 19.4375 48 \nL 19.875 48 \nL 51.078125 0 \nL 60.796875 0 \nL 60.796875 66.65625 \nL 50.140625 66.65625 \nL 50.140625 18.796875 \nL 49.65625 18.796875 \nL 18.5625 66.65625 \nL 8.796875 66.65625 \nL 8.796875 0 \nz\n\" id=\"SFCompactText-Medium-78\"/>\n      <path d=\"M 34.46875 -0.734375 \nC 46.6875 -0.734375 54.203125 7.8125 54.203125 21.828125 \nL 54.203125 29.78125 \nC 54.203125 43.796875 46.78125 52.296875 34.71875 52.296875 \nC 27.296875 52.296875 21.296875 48.78125 19.671875 43.40625 \nL 19.09375 43.40625 \nL 19.09375 70.171875 \nL 8.25 70.171875 \nL 8.25 0 \nL 18.796875 0 \nL 18.796875 7.765625 \nL 19.390625 7.765625 \nC 21.578125 2.4375 27.25 -0.734375 34.46875 -0.734375 \nz\nM 31.5 8.15625 \nC 24.21875 8.15625 19.09375 13.71875 19.09375 21.625 \nL 19.09375 29.109375 \nC 19.09375 37.890625 23.78125 43.40625 31.296875 43.40625 \nC 38.8125 43.40625 43.171875 37.84375 43.171875 28.171875 \nL 43.171875 23.1875 \nC 43.171875 13.671875 38.921875 8.15625 31.5 8.15625 \nz\n\" id=\"SFCompactText-Medium-98\"/>\n      <path d=\"M 12.640625 0 \nL 23.4375 0 \nL 23.4375 42.78125 \nL 35.0625 42.78125 \nL 35.0625 51.265625 \nL 23.296875 51.265625 \nL 23.296875 55.515625 \nC 23.296875 60.984375 25.734375 62.640625 31.453125 62.640625 \nC 32.8125 62.640625 35.296875 62.546875 36.140625 62.453125 \nL 36.140625 70.5625 \nC 34.859375 70.703125 32.03125 70.953125 29.59375 70.953125 \nC 17.484375 70.953125 12.640625 66.453125 12.640625 56.390625 \nL 12.640625 51.265625 \nL 4.109375 51.265625 \nL 4.109375 42.78125 \nL 12.640625 42.78125 \nz\n\" id=\"SFCompactText-Medium-102\"/>\n      <path d=\"M 5.953125 36.578125 \nC 5.953125 26.46875 13.625 23.828125 23.046875 21.875 \nC 29.984375 20.5625 35.890625 19.671875 35.890625 14.3125 \nC 35.890625 10.296875 32.90625 7.03125 25.640625 7.03125 \nC 19.09375 7.03125 16.109375 9.71875 15.53125 13.875 \nL 4.984375 13.875 \nC 4.984375 4.640625 12.84375 -0.875 25.09375 -0.875 \nC 38.1875 -0.875 46.4375 5.171875 46.4375 15.578125 \nC 46.4375 25.34375 39.015625 28.421875 29.390625 30.078125 \nC 23.6875 31.0625 16.359375 31.84375 16.359375 37.546875 \nC 16.359375 42 20.125 44.578125 25.640625 44.578125 \nC 31.890625 44.578125 34.96875 41.0625 35.25 37.703125 \nL 45.015625 37.703125 \nC 45.015625 46.828125 37.25 52.484375 25.921875 52.484375 \nC 15.4375 52.484375 5.953125 47.796875 5.953125 36.578125 \nz\n\" id=\"SFCompactText-Medium-115\"/>\n     </defs>\n     <g transform=\"translate(14.217187 162.289531)rotate(-90)scale(0.1 -0.1)\">\n      <use xlink:href=\"#SFCompactText-Medium-78\"/>\n      <use x=\"69.580078\" xlink:href=\"#SFCompactText-Medium-117\"/>\n      <use x=\"129.492188\" xlink:href=\"#SFCompactText-Medium-109\"/>\n      <use x=\"218.017578\" xlink:href=\"#SFCompactText-Medium-98\"/>\n      <use x=\"277.978516\" xlink:href=\"#SFCompactText-Medium-101\"/>\n      <use x=\"333.447266\" xlink:href=\"#SFCompactText-Medium-114\"/>\n      <use x=\"373.828125\" xlink:href=\"#SFCompactText-Medium-32\"/>\n      <use x=\"396.240234\" xlink:href=\"#SFCompactText-Medium-111\"/>\n      <use x=\"453.613281\" xlink:href=\"#SFCompactText-Medium-102\"/>\n      <use x=\"493.701172\" xlink:href=\"#SFCompactText-Medium-32\"/>\n      <use x=\"516.113281\" xlink:href=\"#SFCompactText-Medium-70\"/>\n      <use x=\"570.019531\" xlink:href=\"#SFCompactText-Medium-101\"/>\n      <use x=\"625.488281\" xlink:href=\"#SFCompactText-Medium-97\"/>\n      <use x=\"680.810547\" xlink:href=\"#SFCompactText-Medium-116\"/>\n      <use x=\"719.873047\" xlink:href=\"#SFCompactText-Medium-117\"/>\n      <use x=\"779.785156\" xlink:href=\"#SFCompactText-Medium-114\"/>\n      <use x=\"820.166016\" xlink:href=\"#SFCompactText-Medium-101\"/>\n      <use x=\"875.634766\" xlink:href=\"#SFCompactText-Medium-115\"/>\n     </g>\n    </g>\n   </g>\n   <g id=\"patch_23\">\n    <path d=\"M 38.840625 224.64 \nL 38.840625 7.2 \n\" style=\"fill:none;stroke:#000000;stroke-linecap:square;stroke-linejoin:miter;stroke-width:0.8;\"/>\n   </g>\n   <g id=\"patch_24\">\n    <path d=\"M 373.640625 224.64 \nL 373.640625 7.2 \n\" style=\"fill:none;stroke:#000000;stroke-linecap:square;stroke-linejoin:miter;stroke-width:0.8;\"/>\n   </g>\n   <g id=\"patch_25\">\n    <path d=\"M 38.840625 224.64 \nL 373.640625 224.64 \n\" style=\"fill:none;stroke:#000000;stroke-linecap:square;stroke-linejoin:miter;stroke-width:0.8;\"/>\n   </g>\n   <g id=\"patch_26\">\n    <path d=\"M 38.840625 7.2 \nL 373.640625 7.2 \n\" style=\"fill:none;stroke:#000000;stroke-linecap:square;stroke-linejoin:miter;stroke-width:0.8;\"/>\n   </g>\n  </g>\n </g>\n <defs>\n  <clipPath id=\"p0300bc0c7b\">\n   <rect height=\"217.44\" width=\"334.8\" x=\"38.840625\" y=\"7.2\"/>\n  </clipPath>\n </defs>\n</svg>\n",
      "image/png": "[encoded data removed]"
     },
     "metadata": {
      "needs_background": "light"
     }
    }
   ],
   "source": [
    "pd.Series(sel_.estimator_.feature_importances_.ravel()).hist(bins=20)\n",
    "plt.xlabel('Feature importance')\n",
    "plt.ylabel('Number of Features')\n",
    "plt.show()"
   ]
  },
  {
   "cell_type": "code",
   "execution_count": 20,
   "metadata": {},
   "outputs": [
    {
     "output_type": "stream",
     "name": "stdout",
     "text": [
      "\n\u001b[34mSummary:\u001b[0m\n\nTotal features: 147\nSelected features: 68\nfeatures with importance greater than the mean importance of all features: 68\n\n\u001b[34mSelected columns:\u001b[0m\n\nIndex(['MCP', 'Load', 'ID3 (-4)', 'ID3 (-5)', 'ID3 (-7)', 'ID3 (-9)',\n       'ID3 (-10)', 'ID3 (-11)', 'ID3 (-12)', 'ID3 (-13)', 'ID3 (-14)',\n       'ID3 (-15)', 'ID3 (-16)', 'ID3 (-17)', 'ID3 (-18)', 'ID3 (-19)',\n       'ID3 (-20)', 'ID3 (-23)', 'ID3 (-27)', 'ID3 (-28)', 'ID3 (-30)',\n       'ID3 (-31)', 'ID3 (-32)', 'ID3 (-35)', 'ID3 (-36)', 'ID3 (-37)',\n       'ID3 (-43)', 'ID3 (-51)', 'ID3 (-52)', 'ID3 (-56)', 'ID3 (-58)',\n       'ID3 (-61)', 'ID3 (-62)', 'ID3 (-64)', 'ID3 (-65)', 'ID3 (-66)',\n       'ID3 (-67)', 'ID3 (-70)', 'ID3 (-72)', 'ID3 (-76)', 'ID3 (-78)',\n       'ID3 (-84)', 'ID3 (-86)', 'ID3 (-87)', 'ID3 (-90)', 'ID3 (-92)',\n       'ID3 (-96)', 'ID3 (-98)', 'ID3 (-99)', 'ID3 (-100)', 'ID3 (-107)',\n       'ID3 (-114)', 'ID3 (-118)', 'ID3 (-121)', 'ID3 (-124)', 'ID3 (-128)',\n       'ID3 (-130)', 'ID3 (-134)', 'ID3 (-135)', 'ID3 (-137)', 'ID3 (-138)',\n       'ID3 (-140)', 'ID3 (-142)', 'ID3 (-143)', 'ID3 (-144)', 'ID3 (-146)',\n       'ID3 (-147)', 'ID3 (-148)'],\n      dtype='object')\n"
     ]
    }
   ],
   "source": [
    "print(), print(colored('Summary:', 'blue')), print()\n",
    "\n",
    "print(f'Total features: {X_train.shape[1]}')\n",
    "print(f'Selected features: {len(X_train.columns[(sel_.get_support())])}')\n",
    "print(f'features with importance greater than the mean importance of all features: {np.sum(sel_.estimator_.feature_importances_ > sel_.estimator_.feature_importances_.mean())}')\n",
    "\n",
    "print(), print(colored('Selected columns:', 'blue')), print()\n",
    "print(X_train.columns[sel_.get_support()])"
   ]
  },
  {
   "cell_type": "code",
   "execution_count": null,
   "metadata": {},
   "outputs": [],
   "source": []
  }
 ]
}