{
 "metadata": {
  "language_info": {
   "codemirror_mode": {
    "name": "ipython",
    "version": 3
   },
   "file_extension": ".py",
   "mimetype": "text/x-python",
   "name": "python",
   "nbconvert_exporter": "python",
   "pygments_lexer": "ipython3",
   "version": "3.8.2-final"
  },
  "orig_nbformat": 2,
  "kernelspec": {
   "name": "python3",
   "display_name": "Python 3",
   "language": "python"
  }
 },
 "nbformat": 4,
 "nbformat_minor": 2,
 "cells": [
  {
   "cell_type": "code",
   "execution_count": 17,
   "metadata": {},
   "outputs": [],
   "source": [
    "def create_features(years, lags):\n",
    "\n",
    "    import pandas as pd \n",
    "\n",
    "    ID = pd.read_pickle(f\"../epex/ID.pkl\")\n",
    "\n",
    "    ID = ID.astype('float')\n",
    "\n",
    "    ID = ID.loc[ID.index.year.isin(years)]\n",
    "\n",
    "    DA = pd.read_pickle(f\"../epex/DA.pkl\")\n",
    "\n",
    "    DA = DA.astype('float')\n",
    "\n",
    "    DA = DA.loc[DA.index.year.isin(years)]\n",
    "\n",
    "    features = pd.merge(ID, DA, left_index=True, right_index=True, how='outer')\n",
    "\n",
    "    for l in lags:\n",
    "        features[f'ID3 ({l})'] = features['ID3'].shift(l)\n",
    "\n",
    "    features = features.dropna()\n",
    "\n",
    "    return ID, DA, features"
   ]
  },
  {
   "cell_type": "code",
   "execution_count": null,
   "metadata": {},
   "outputs": [],
   "source": []
  }
 ]
}