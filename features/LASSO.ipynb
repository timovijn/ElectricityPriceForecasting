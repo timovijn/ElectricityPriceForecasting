{
 "metadata": {
  "language_info": {
   "codemirror_mode": {
    "name": "ipython",
    "version": 3
   },
   "file_extension": ".py",
   "mimetype": "text/x-python",
   "name": "python",
   "nbconvert_exporter": "python",
   "pygments_lexer": "ipython3",
   "version": "3.8.2-final"
  },
  "orig_nbformat": 2,
  "kernelspec": {
   "name": "python3",
   "display_name": "Python 3",
   "language": "python"
  }
 },
 "nbformat": 4,
 "nbformat_minor": 2,
 "cells": [
  {
   "source": [
    "# Load necessary packages"
   ],
   "cell_type": "markdown",
   "metadata": {}
  },
  {
   "cell_type": "code",
   "execution_count": 1,
   "metadata": {},
   "outputs": [],
   "source": [
    "import pandas as pd \n",
    "import numpy as np\n",
    "\n",
    "hex_salmon = '#F68F83'\n",
    "hex_gold = '#BC9661'\n",
    "hex_indigo = '#2D2E5F'\n",
    "hex_maroon = '#8C4750'\n",
    "hex_white = '#FAFAFA'\n",
    "hex_blue = '#7EB5D2'\n",
    "\n",
    "import seaborn as sns\n",
    "import matplotlib.pyplot as plt\n",
    "import matplotlib as mpl\n",
    "from matplotlib.dates import DateFormatter\n",
    "import matplotlib.dates as dates\n",
    "mpl.rcParams['font.family'] = 'SF Compact Text'\n",
    "mpl.rcParams['font.weight'] = 'medium'\n",
    "mpl.rcParams['axes.titleweight'] = 'semibold'\n",
    "mpl.rcParams['axes.labelweight'] = 'medium'\n",
    "mpl.rcParams['axes.prop_cycle'] = mpl.cycler(color=[hex_indigo, hex_salmon, hex_maroon])\n",
    "mpl.rcParams[\"figure.titlesize\"] = 'large'\n",
    "mpl.rcParams[\"figure.titleweight\"] = 'semibold'\n",
    "\n",
    "from termcolor import colored\n",
    "\n",
    "from sklearn.model_selection import train_test_split\n",
    "\n",
    "from sklearn.linear_model import Lasso, LogisticRegression\n",
    "from sklearn.feature_selection import SelectFromModel\n",
    "from sklearn.preprocessing import StandardScaler, LabelEncoder"
   ]
  },
  {
   "source": [
    "# Load data"
   ],
   "cell_type": "markdown",
   "metadata": {}
  },
  {
   "cell_type": "code",
   "execution_count": 2,
   "metadata": {},
   "outputs": [
    {
     "output_type": "stream",
     "name": "stdout",
     "text": [
      "importing Jupyter notebook from data.ipynb\n"
     ]
    }
   ],
   "source": [
    "import import_ipynb\n",
    "from data import create_features\n",
    "\n",
    "years = [2018]\n",
    "lags = range(-1, -149, -1)\n",
    "ID, DA, features = create_features(years, lags)"
   ]
  },
  {
   "cell_type": "code",
   "execution_count": 3,
   "metadata": {},
   "outputs": [
    {
     "output_type": "execute_result",
     "data": {
      "text/plain": [
       "                           ID3\n",
       "Instrument                    \n",
       "2018-01-01 00:00:00  14.586875\n",
       "2018-01-01 01:00:00  12.990924\n",
       "2018-01-01 02:00:00  22.150235\n",
       "2018-01-01 03:00:00  21.917514\n",
       "2018-01-01 04:00:00  21.621781"
      ],
      "text/html": "<div>\n<style scoped>\n    .dataframe tbody tr th:only-of-type {\n        vertical-align: middle;\n    }\n\n    .dataframe tbody tr th {\n        vertical-align: top;\n    }\n\n    .dataframe thead th {\n        text-align: right;\n    }\n</style>\n<table border=\"1\" class=\"dataframe\">\n  <thead>\n    <tr style=\"text-align: right;\">\n      <th></th>\n      <th>ID3</th>\n    </tr>\n    <tr>\n      <th>Instrument</th>\n      <th></th>\n    </tr>\n  </thead>\n  <tbody>\n    <tr>\n      <th>2018-01-01 00:00:00</th>\n      <td>14.586875</td>\n    </tr>\n    <tr>\n      <th>2018-01-01 01:00:00</th>\n      <td>12.990924</td>\n    </tr>\n    <tr>\n      <th>2018-01-01 02:00:00</th>\n      <td>22.150235</td>\n    </tr>\n    <tr>\n      <th>2018-01-01 03:00:00</th>\n      <td>21.917514</td>\n    </tr>\n    <tr>\n      <th>2018-01-01 04:00:00</th>\n      <td>21.621781</td>\n    </tr>\n  </tbody>\n</table>\n</div>"
     },
     "metadata": {},
     "execution_count": 3
    }
   ],
   "source": [
    "ID.head(5)"
   ]
  },
  {
   "cell_type": "code",
   "execution_count": 4,
   "metadata": {},
   "outputs": [
    {
     "output_type": "execute_result",
     "data": {
      "text/plain": [
       "                       MCP\n",
       "Instrument                \n",
       "2018-01-01 00:00:00  27.20\n",
       "2018-01-01 01:00:00  27.30\n",
       "2018-01-01 02:00:00  30.10\n",
       "2018-01-01 03:00:00  20.87\n",
       "2018-01-01 04:00:00  25.56"
      ],
      "text/html": "<div>\n<style scoped>\n    .dataframe tbody tr th:only-of-type {\n        vertical-align: middle;\n    }\n\n    .dataframe tbody tr th {\n        vertical-align: top;\n    }\n\n    .dataframe thead th {\n        text-align: right;\n    }\n</style>\n<table border=\"1\" class=\"dataframe\">\n  <thead>\n    <tr style=\"text-align: right;\">\n      <th></th>\n      <th>MCP</th>\n    </tr>\n    <tr>\n      <th>Instrument</th>\n      <th></th>\n    </tr>\n  </thead>\n  <tbody>\n    <tr>\n      <th>2018-01-01 00:00:00</th>\n      <td>27.20</td>\n    </tr>\n    <tr>\n      <th>2018-01-01 01:00:00</th>\n      <td>27.30</td>\n    </tr>\n    <tr>\n      <th>2018-01-01 02:00:00</th>\n      <td>30.10</td>\n    </tr>\n    <tr>\n      <th>2018-01-01 03:00:00</th>\n      <td>20.87</td>\n    </tr>\n    <tr>\n      <th>2018-01-01 04:00:00</th>\n      <td>25.56</td>\n    </tr>\n  </tbody>\n</table>\n</div>"
     },
     "metadata": {},
     "execution_count": 4
    }
   ],
   "source": [
    "DA.head(5)"
   ]
  },
  {
   "source": [
    "# Create features"
   ],
   "cell_type": "markdown",
   "metadata": {}
  },
  {
   "source": [
    "## Price"
   ],
   "cell_type": "markdown",
   "metadata": {}
  },
  {
   "cell_type": "code",
   "execution_count": 5,
   "metadata": {},
   "outputs": [
    {
     "output_type": "execute_result",
     "data": {
      "text/plain": [
       "                           ID3    MCP   ID3 (-1)   ID3 (-2)   ID3 (-3)  \\\n",
       "Instrument                                                               \n",
       "2018-01-01 00:00:00  14.586875  27.20  12.990924  22.150235  21.917514   \n",
       "2018-01-01 01:00:00  12.990924  27.30  22.150235  21.917514  21.621781   \n",
       "2018-01-01 02:00:00  22.150235  30.10  21.917514  21.621781  22.352647   \n",
       "2018-01-01 03:00:00  21.917514  20.87  21.621781  22.352647  23.071457   \n",
       "2018-01-01 04:00:00  21.621781  25.56  22.352647  23.071457  24.345686   \n",
       "\n",
       "                      ID3 (-4)   ID3 (-5)   ID3 (-6)   ID3 (-7)   ID3 (-8)  \\\n",
       "Instrument                                                                   \n",
       "2018-01-01 00:00:00  21.621781  22.352647  23.071457  24.345686  25.257541   \n",
       "2018-01-01 01:00:00  22.352647  23.071457  24.345686  25.257541  25.114449   \n",
       "2018-01-01 02:00:00  23.071457  24.345686  25.257541  25.114449  24.868167   \n",
       "2018-01-01 03:00:00  24.345686  25.257541  25.114449  24.868167  25.978476   \n",
       "2018-01-01 04:00:00  25.257541  25.114449  24.868167  25.978476  26.555409   \n",
       "\n",
       "                     ...  ID3 (-139)  ID3 (-140)  ID3 (-141)  ID3 (-142)  \\\n",
       "Instrument           ...                                                   \n",
       "2018-01-01 00:00:00  ...   28.133026   25.573566   21.338662   16.894157   \n",
       "2018-01-01 01:00:00  ...   25.573566   21.338662   16.894157   13.996110   \n",
       "2018-01-01 02:00:00  ...   21.338662   16.894157   13.996110   10.895444   \n",
       "2018-01-01 03:00:00  ...   16.894157   13.996110   10.895444    4.704599   \n",
       "2018-01-01 04:00:00  ...   13.996110   10.895444    4.704599    4.923619   \n",
       "\n",
       "                     ID3 (-143)  ID3 (-144)  ID3 (-145)  ID3 (-146)  \\\n",
       "Instrument                                                            \n",
       "2018-01-01 00:00:00   13.996110   10.895444    4.704599    4.923619   \n",
       "2018-01-01 01:00:00   10.895444    4.704599    4.923619    5.496337   \n",
       "2018-01-01 02:00:00    4.704599    4.923619    5.496337    9.487713   \n",
       "2018-01-01 03:00:00    4.923619    5.496337    9.487713   10.044227   \n",
       "2018-01-01 04:00:00    5.496337    9.487713   10.044227   12.999145   \n",
       "\n",
       "                     ID3 (-147)  ID3 (-148)  \n",
       "Instrument                                   \n",
       "2018-01-01 00:00:00    5.496337    9.487713  \n",
       "2018-01-01 01:00:00    9.487713   10.044227  \n",
       "2018-01-01 02:00:00   10.044227   12.999145  \n",
       "2018-01-01 03:00:00   12.999145   16.051924  \n",
       "2018-01-01 04:00:00   16.051924   22.510375  \n",
       "\n",
       "[5 rows x 150 columns]"
      ],
      "text/html": "<div>\n<style scoped>\n    .dataframe tbody tr th:only-of-type {\n        vertical-align: middle;\n    }\n\n    .dataframe tbody tr th {\n        vertical-align: top;\n    }\n\n    .dataframe thead th {\n        text-align: right;\n    }\n</style>\n<table border=\"1\" class=\"dataframe\">\n  <thead>\n    <tr style=\"text-align: right;\">\n      <th></th>\n      <th>ID3</th>\n      <th>MCP</th>\n      <th>ID3 (-1)</th>\n      <th>ID3 (-2)</th>\n      <th>ID3 (-3)</th>\n      <th>ID3 (-4)</th>\n      <th>ID3 (-5)</th>\n      <th>ID3 (-6)</th>\n      <th>ID3 (-7)</th>\n      <th>ID3 (-8)</th>\n      <th>...</th>\n      <th>ID3 (-139)</th>\n      <th>ID3 (-140)</th>\n      <th>ID3 (-141)</th>\n      <th>ID3 (-142)</th>\n      <th>ID3 (-143)</th>\n      <th>ID3 (-144)</th>\n      <th>ID3 (-145)</th>\n      <th>ID3 (-146)</th>\n      <th>ID3 (-147)</th>\n      <th>ID3 (-148)</th>\n    </tr>\n    <tr>\n      <th>Instrument</th>\n      <th></th>\n      <th></th>\n      <th></th>\n      <th></th>\n      <th></th>\n      <th></th>\n      <th></th>\n      <th></th>\n      <th></th>\n      <th></th>\n      <th></th>\n      <th></th>\n      <th></th>\n      <th></th>\n      <th></th>\n      <th></th>\n      <th></th>\n      <th></th>\n      <th></th>\n      <th></th>\n      <th></th>\n    </tr>\n  </thead>\n  <tbody>\n    <tr>\n      <th>2018-01-01 00:00:00</th>\n      <td>14.586875</td>\n      <td>27.20</td>\n      <td>12.990924</td>\n      <td>22.150235</td>\n      <td>21.917514</td>\n      <td>21.621781</td>\n      <td>22.352647</td>\n      <td>23.071457</td>\n      <td>24.345686</td>\n      <td>25.257541</td>\n      <td>...</td>\n      <td>28.133026</td>\n      <td>25.573566</td>\n      <td>21.338662</td>\n      <td>16.894157</td>\n      <td>13.996110</td>\n      <td>10.895444</td>\n      <td>4.704599</td>\n      <td>4.923619</td>\n      <td>5.496337</td>\n      <td>9.487713</td>\n    </tr>\n    <tr>\n      <th>2018-01-01 01:00:00</th>\n      <td>12.990924</td>\n      <td>27.30</td>\n      <td>22.150235</td>\n      <td>21.917514</td>\n      <td>21.621781</td>\n      <td>22.352647</td>\n      <td>23.071457</td>\n      <td>24.345686</td>\n      <td>25.257541</td>\n      <td>25.114449</td>\n      <td>...</td>\n      <td>25.573566</td>\n      <td>21.338662</td>\n      <td>16.894157</td>\n      <td>13.996110</td>\n      <td>10.895444</td>\n      <td>4.704599</td>\n      <td>4.923619</td>\n      <td>5.496337</td>\n      <td>9.487713</td>\n      <td>10.044227</td>\n    </tr>\n    <tr>\n      <th>2018-01-01 02:00:00</th>\n      <td>22.150235</td>\n      <td>30.10</td>\n      <td>21.917514</td>\n      <td>21.621781</td>\n      <td>22.352647</td>\n      <td>23.071457</td>\n      <td>24.345686</td>\n      <td>25.257541</td>\n      <td>25.114449</td>\n      <td>24.868167</td>\n      <td>...</td>\n      <td>21.338662</td>\n      <td>16.894157</td>\n      <td>13.996110</td>\n      <td>10.895444</td>\n      <td>4.704599</td>\n      <td>4.923619</td>\n      <td>5.496337</td>\n      <td>9.487713</td>\n      <td>10.044227</td>\n      <td>12.999145</td>\n    </tr>\n    <tr>\n      <th>2018-01-01 03:00:00</th>\n      <td>21.917514</td>\n      <td>20.87</td>\n      <td>21.621781</td>\n      <td>22.352647</td>\n      <td>23.071457</td>\n      <td>24.345686</td>\n      <td>25.257541</td>\n      <td>25.114449</td>\n      <td>24.868167</td>\n      <td>25.978476</td>\n      <td>...</td>\n      <td>16.894157</td>\n      <td>13.996110</td>\n      <td>10.895444</td>\n      <td>4.704599</td>\n      <td>4.923619</td>\n      <td>5.496337</td>\n      <td>9.487713</td>\n      <td>10.044227</td>\n      <td>12.999145</td>\n      <td>16.051924</td>\n    </tr>\n    <tr>\n      <th>2018-01-01 04:00:00</th>\n      <td>21.621781</td>\n      <td>25.56</td>\n      <td>22.352647</td>\n      <td>23.071457</td>\n      <td>24.345686</td>\n      <td>25.257541</td>\n      <td>25.114449</td>\n      <td>24.868167</td>\n      <td>25.978476</td>\n      <td>26.555409</td>\n      <td>...</td>\n      <td>13.996110</td>\n      <td>10.895444</td>\n      <td>4.704599</td>\n      <td>4.923619</td>\n      <td>5.496337</td>\n      <td>9.487713</td>\n      <td>10.044227</td>\n      <td>12.999145</td>\n      <td>16.051924</td>\n      <td>22.510375</td>\n    </tr>\n  </tbody>\n</table>\n<p>5 rows × 150 columns</p>\n</div>"
     },
     "metadata": {},
     "execution_count": 5
    }
   ],
   "source": [
    "features.head(5)"
   ]
  },
  {
   "source": [
    "# Separate train and test sets"
   ],
   "cell_type": "markdown",
   "metadata": {}
  },
  {
   "cell_type": "code",
   "execution_count": 6,
   "metadata": {},
   "outputs": [
    {
     "output_type": "execute_result",
     "data": {
      "text/plain": [
       "((5551, 149), (2380, 149))"
      ]
     },
     "metadata": {},
     "execution_count": 6
    }
   ],
   "source": [
    "X_train, X_test, y_train, y_test = train_test_split(\n",
    "    features.drop(labels=['ID3'], axis=1),\n",
    "    features['ID3'],\n",
    "    test_size = 0.3,\n",
    "    random_state = 0,\n",
    "    shuffle = True)\n",
    "\n",
    "X_train.shape, X_test.shape"
   ]
  },
  {
   "cell_type": "code",
   "execution_count": 7,
   "metadata": {},
   "outputs": [
    {
     "output_type": "execute_result",
     "data": {
      "text/plain": [
       "                       MCP   ID3 (-1)   ID3 (-2)   ID3 (-3)   ID3 (-4)  \\\n",
       "Instrument                                                               \n",
       "2018-05-03 13:00:00  38.61  42.084034  45.080740  51.122366  52.015268   \n",
       "2018-01-26 16:00:00  48.25  48.289236  46.781604  43.841152  39.925535   \n",
       "2018-09-11 13:00:00  70.00  69.253482  80.048755  79.505328  77.548151   \n",
       "2018-12-16 22:00:00  56.92  67.923885  68.229592  58.184333  58.666775   \n",
       "2018-08-27 22:00:00  54.64  51.870694  50.171170  50.948705  54.784392   \n",
       "\n",
       "                      ID3 (-5)   ID3 (-6)   ID3 (-7)   ID3 (-8)   ID3 (-9)  \\\n",
       "Instrument                                                                   \n",
       "2018-05-03 13:00:00  51.006758  47.733694  44.376636  43.058198  41.689196   \n",
       "2018-01-26 16:00:00  42.101536  41.918745  40.063780  35.150921  33.951000   \n",
       "2018-09-11 13:00:00  75.424293  73.588320  61.398192  56.647576  52.113629   \n",
       "2018-12-16 22:00:00  62.722978  70.149414  74.805337  74.785691  75.115117   \n",
       "2018-08-27 22:00:00  61.940540  74.031672  87.291319  93.491137  86.833391   \n",
       "\n",
       "                     ...  ID3 (-139)  ID3 (-140)  ID3 (-141)  ID3 (-142)  \\\n",
       "Instrument           ...                                                   \n",
       "2018-05-03 13:00:00  ...   72.060866   50.615229   47.282028   43.711200   \n",
       "2018-01-26 16:00:00  ...   63.226417   70.535615   63.499484   56.231114   \n",
       "2018-09-11 13:00:00  ...   53.872761   50.743267   56.051835   63.324357   \n",
       "2018-12-16 22:00:00  ...   69.180784   70.461262   67.409818   61.838669   \n",
       "2018-08-27 22:00:00  ...   68.325695   68.329344   69.055205   66.750018   \n",
       "\n",
       "                     ID3 (-143)  ID3 (-144)  ID3 (-145)  ID3 (-146)  \\\n",
       "Instrument                                                            \n",
       "2018-05-03 13:00:00   45.261673   47.598988   49.075267   49.155460   \n",
       "2018-01-26 16:00:00   52.288030   53.306764   52.696084   50.771934   \n",
       "2018-09-11 13:00:00   69.422585   73.439432   74.115821   78.781368   \n",
       "2018-12-16 22:00:00   64.747692   59.653026   54.260255   53.110401   \n",
       "2018-08-27 22:00:00   61.526929   58.000790   57.201008   57.674137   \n",
       "\n",
       "                     ID3 (-147)  ID3 (-148)  \n",
       "Instrument                                   \n",
       "2018-05-03 13:00:00   48.127858   50.171621  \n",
       "2018-01-26 16:00:00   48.730095   41.783780  \n",
       "2018-09-11 13:00:00   79.446161   82.135151  \n",
       "2018-12-16 22:00:00   42.290105   40.798089  \n",
       "2018-08-27 22:00:00   64.186213   66.739429  \n",
       "\n",
       "[5 rows x 149 columns]"
      ],
      "text/html": "<div>\n<style scoped>\n    .dataframe tbody tr th:only-of-type {\n        vertical-align: middle;\n    }\n\n    .dataframe tbody tr th {\n        vertical-align: top;\n    }\n\n    .dataframe thead th {\n        text-align: right;\n    }\n</style>\n<table border=\"1\" class=\"dataframe\">\n  <thead>\n    <tr style=\"text-align: right;\">\n      <th></th>\n      <th>MCP</th>\n      <th>ID3 (-1)</th>\n      <th>ID3 (-2)</th>\n      <th>ID3 (-3)</th>\n      <th>ID3 (-4)</th>\n      <th>ID3 (-5)</th>\n      <th>ID3 (-6)</th>\n      <th>ID3 (-7)</th>\n      <th>ID3 (-8)</th>\n      <th>ID3 (-9)</th>\n      <th>...</th>\n      <th>ID3 (-139)</th>\n      <th>ID3 (-140)</th>\n      <th>ID3 (-141)</th>\n      <th>ID3 (-142)</th>\n      <th>ID3 (-143)</th>\n      <th>ID3 (-144)</th>\n      <th>ID3 (-145)</th>\n      <th>ID3 (-146)</th>\n      <th>ID3 (-147)</th>\n      <th>ID3 (-148)</th>\n    </tr>\n    <tr>\n      <th>Instrument</th>\n      <th></th>\n      <th></th>\n      <th></th>\n      <th></th>\n      <th></th>\n      <th></th>\n      <th></th>\n      <th></th>\n      <th></th>\n      <th></th>\n      <th></th>\n      <th></th>\n      <th></th>\n      <th></th>\n      <th></th>\n      <th></th>\n      <th></th>\n      <th></th>\n      <th></th>\n      <th></th>\n      <th></th>\n    </tr>\n  </thead>\n  <tbody>\n    <tr>\n      <th>2018-05-03 13:00:00</th>\n      <td>38.61</td>\n      <td>42.084034</td>\n      <td>45.080740</td>\n      <td>51.122366</td>\n      <td>52.015268</td>\n      <td>51.006758</td>\n      <td>47.733694</td>\n      <td>44.376636</td>\n      <td>43.058198</td>\n      <td>41.689196</td>\n      <td>...</td>\n      <td>72.060866</td>\n      <td>50.615229</td>\n      <td>47.282028</td>\n      <td>43.711200</td>\n      <td>45.261673</td>\n      <td>47.598988</td>\n      <td>49.075267</td>\n      <td>49.155460</td>\n      <td>48.127858</td>\n      <td>50.171621</td>\n    </tr>\n    <tr>\n      <th>2018-01-26 16:00:00</th>\n      <td>48.25</td>\n      <td>48.289236</td>\n      <td>46.781604</td>\n      <td>43.841152</td>\n      <td>39.925535</td>\n      <td>42.101536</td>\n      <td>41.918745</td>\n      <td>40.063780</td>\n      <td>35.150921</td>\n      <td>33.951000</td>\n      <td>...</td>\n      <td>63.226417</td>\n      <td>70.535615</td>\n      <td>63.499484</td>\n      <td>56.231114</td>\n      <td>52.288030</td>\n      <td>53.306764</td>\n      <td>52.696084</td>\n      <td>50.771934</td>\n      <td>48.730095</td>\n      <td>41.783780</td>\n    </tr>\n    <tr>\n      <th>2018-09-11 13:00:00</th>\n      <td>70.00</td>\n      <td>69.253482</td>\n      <td>80.048755</td>\n      <td>79.505328</td>\n      <td>77.548151</td>\n      <td>75.424293</td>\n      <td>73.588320</td>\n      <td>61.398192</td>\n      <td>56.647576</td>\n      <td>52.113629</td>\n      <td>...</td>\n      <td>53.872761</td>\n      <td>50.743267</td>\n      <td>56.051835</td>\n      <td>63.324357</td>\n      <td>69.422585</td>\n      <td>73.439432</td>\n      <td>74.115821</td>\n      <td>78.781368</td>\n      <td>79.446161</td>\n      <td>82.135151</td>\n    </tr>\n    <tr>\n      <th>2018-12-16 22:00:00</th>\n      <td>56.92</td>\n      <td>67.923885</td>\n      <td>68.229592</td>\n      <td>58.184333</td>\n      <td>58.666775</td>\n      <td>62.722978</td>\n      <td>70.149414</td>\n      <td>74.805337</td>\n      <td>74.785691</td>\n      <td>75.115117</td>\n      <td>...</td>\n      <td>69.180784</td>\n      <td>70.461262</td>\n      <td>67.409818</td>\n      <td>61.838669</td>\n      <td>64.747692</td>\n      <td>59.653026</td>\n      <td>54.260255</td>\n      <td>53.110401</td>\n      <td>42.290105</td>\n      <td>40.798089</td>\n    </tr>\n    <tr>\n      <th>2018-08-27 22:00:00</th>\n      <td>54.64</td>\n      <td>51.870694</td>\n      <td>50.171170</td>\n      <td>50.948705</td>\n      <td>54.784392</td>\n      <td>61.940540</td>\n      <td>74.031672</td>\n      <td>87.291319</td>\n      <td>93.491137</td>\n      <td>86.833391</td>\n      <td>...</td>\n      <td>68.325695</td>\n      <td>68.329344</td>\n      <td>69.055205</td>\n      <td>66.750018</td>\n      <td>61.526929</td>\n      <td>58.000790</td>\n      <td>57.201008</td>\n      <td>57.674137</td>\n      <td>64.186213</td>\n      <td>66.739429</td>\n    </tr>\n  </tbody>\n</table>\n<p>5 rows × 149 columns</p>\n</div>"
     },
     "metadata": {},
     "execution_count": 7
    }
   ],
   "source": [
    "X_train.head(5)"
   ]
  },
  {
   "source": [
    "# Feature scaling"
   ],
   "cell_type": "markdown",
   "metadata": {}
  },
  {
   "cell_type": "code",
   "execution_count": 8,
   "metadata": {},
   "outputs": [
    {
     "output_type": "execute_result",
     "data": {
      "text/plain": [
       "StandardScaler()"
      ]
     },
     "metadata": {},
     "execution_count": 8
    }
   ],
   "source": [
    "scaler = StandardScaler()\n",
    "scaler.fit(X_train)"
   ]
  },
  {
   "source": [
    "# LASSO\n",
    "\n",
    "Specify logistic regression model via LogisticicRegression() with LASSO (l1) penalty and then select features via SelectFromModel()\n",
    "\n",
    "It is necessary to encode training labels"
   ],
   "cell_type": "markdown",
   "metadata": {}
  },
  {
   "cell_type": "code",
   "execution_count": 9,
   "metadata": {},
   "outputs": [],
   "source": [
    "# sel_ = SelectFromModel(\n",
    "#     LogisticRegression(C=0.5, penalty='l1', solver='liblinear', random_state=10))\n",
    "\n",
    "# sel_.fit(scaler.transform(X_train), y_train)"
   ]
  },
  {
   "cell_type": "code",
   "execution_count": 10,
   "metadata": {},
   "outputs": [
    {
     "output_type": "execute_result",
     "data": {
      "text/plain": [
       "SelectFromModel(estimator=Lasso(alpha=100, random_state=10))"
      ]
     },
     "metadata": {},
     "execution_count": 10
    }
   ],
   "source": [
    "lab_enc = LabelEncoder()\n",
    "y_train = lab_enc.fit_transform(y_train)\n",
    "\n",
    "sel_ = SelectFromModel(Lasso(alpha=100, random_state=10))\n",
    "sel_.fit(scaler.transform(X_train), y_train)"
   ]
  },
  {
   "source": [
    "# Visualise "
   ],
   "cell_type": "markdown",
   "metadata": {}
  },
  {
   "cell_type": "code",
   "execution_count": 11,
   "metadata": {},
   "outputs": [
    {
     "output_type": "execute_result",
     "data": {
      "text/plain": [
       "array([ True,  True, False, False, False, False, False, False, False,\n",
       "       False, False, False, False, False, False, False, False, False,\n",
       "       False, False, False, False, False, False,  True, False, False,\n",
       "       False, False, False, False, False, False, False, False, False,\n",
       "       False, False, False, False, False, False, False, False, False,\n",
       "       False, False, False,  True, False, False, False, False, False,\n",
       "       False, False, False, False, False, False, False, False, False,\n",
       "       False, False, False, False, False, False, False, False, False,\n",
       "       False, False, False, False, False, False, False, False, False,\n",
       "       False, False, False, False, False, False, False, False, False,\n",
       "       False, False, False, False, False, False,  True, False, False,\n",
       "       False, False, False, False, False, False, False, False, False,\n",
       "       False, False, False, False, False, False, False, False, False,\n",
       "       False, False, False, False, False, False, False, False, False,\n",
       "       False, False, False, False, False, False, False, False, False,\n",
       "       False, False, False, False, False, False, False, False, False,\n",
       "        True,  True, False, False, False])"
      ]
     },
     "metadata": {},
     "execution_count": 11
    }
   ],
   "source": [
    "sel_.get_support()"
   ]
  },
  {
   "cell_type": "code",
   "execution_count": 12,
   "metadata": {},
   "outputs": [
    {
     "output_type": "execute_result",
     "data": {
      "text/plain": [
       "Index(['MCP', 'ID3 (-1)', 'ID3 (-24)', 'ID3 (-48)', 'ID3 (-96)', 'ID3 (-144)',\n",
       "       'ID3 (-145)'],\n",
       "      dtype='object')"
      ]
     },
     "metadata": {},
     "execution_count": 12
    }
   ],
   "source": [
    "X_train.columns[sel_.get_support()]"
   ]
  },
  {
   "cell_type": "code",
   "execution_count": 13,
   "metadata": {},
   "outputs": [
    {
     "output_type": "stream",
     "name": "stdout",
     "text": [
      "Total features: 149\nSelected features: 7\nFeatures with coefficients shrank to zero: 142\n"
     ]
    }
   ],
   "source": [
    "features_selected = X_train.columns[(sel_.get_support())]\n",
    "\n",
    "print(f'Total features: {X_train.shape[1]}')\n",
    "print(f'Selected features: {len(features_selected)}')\n",
    "print(f'Features with coefficients shrank to zero: {np.sum(sel_.estimator_.coef_ == 0)}')"
   ]
  }
 ]
}